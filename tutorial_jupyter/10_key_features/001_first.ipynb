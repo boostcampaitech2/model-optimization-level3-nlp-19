{
 "cells": [
  {
   "cell_type": "markdown",
   "metadata": {},
   "source": [
    "\n",
    "\n",
    "# Lightweight, versatile, and platform agnostic architecture\n",
    "\n",
    "Optuna is entirely written in Python and has few dependencies.\n",
    "This means that we can quickly move to the real example once you get interested in Optuna.\n",
    "\n",
    "\n",
    "## Quadratic Function Example\n",
    "\n",
    "Usually, Optuna is used to optimize hyperparameters, but as an example,\n",
    "let's optimize a simple quadratic function: $(x - 2)^2$.\n"
   ]
  },
  {
   "cell_type": "markdown",
   "metadata": {},
   "source": [
    "First of all, import :mod:`optuna`.\n",
    "\n"
   ]
  },
  {
   "cell_type": "code",
   "execution_count": 2,
   "metadata": {
    "collapsed": false,
    "jupyter": {
     "outputs_hidden": false
    }
   },
   "outputs": [],
   "source": [
    "import optuna"
   ]
  },
  {
   "cell_type": "markdown",
   "metadata": {},
   "source": [
    "In optuna, conventionally functions to be optimized are named `objective`.\n",
    "\n"
   ]
  },
  {
   "cell_type": "code",
   "execution_count": 3,
   "metadata": {
    "collapsed": false,
    "jupyter": {
     "outputs_hidden": false
    }
   },
   "outputs": [],
   "source": [
    "def objective(trial):\n",
    "    x = trial.suggest_float(\"x\", -10, 10)\n",
    "    return (x - 2) ** 2"
   ]
  },
  {
   "cell_type": "markdown",
   "metadata": {},
   "source": [
    "This function returns the value of $(x - 2)^2$. Our goal is to find the value of ``x``\n",
    "that minimizes the output of the ``objective`` function. This is the \"optimization.\"\n",
    "During the optimization, Optuna repeatedly calls and evaluates the objective function with\n",
    "different values of ``x``.\n",
    "\n",
    "A :class:`~optuna.trial.Trial` object corresponds to a single execution of the objective\n",
    "function and is internally instantiated upon each invocation of the function.\n",
    "\n",
    "The `suggest` APIs (for example, :func:`~optuna.trial.Trial.suggest_float`) are called\n",
    "inside the objective function to obtain parameters for a trial.\n",
    ":func:`~optuna.trial.Trial.suggest_float` selects parameters uniformly within the range\n",
    "provided. In our example, from $-10$ to $10$.\n",
    "\n",
    "To start the optimization, we create a study object and pass the objective function to method\n",
    ":func:`~optuna.study.Study.optimize` as follows.\n",
    "\n"
   ]
  },
  {
   "cell_type": "code",
   "execution_count": 4,
   "metadata": {
    "collapsed": true,
    "jupyter": {
     "outputs_hidden": true
    },
    "tags": []
   },
   "outputs": [
    {
     "name": "stderr",
     "output_type": "stream",
     "text": [
      "\u001b[32m[I 2021-11-29 06:30:17,107]\u001b[0m A new study created in memory with name: no-name-25eac636-bcc3-453b-8d49-afd4607a7028\u001b[0m\n",
      "\u001b[32m[I 2021-11-29 06:30:17,110]\u001b[0m Trial 0 finished with value: 13.181368649438703 and parameters: {'x': 5.630615464275817}. Best is trial 0 with value: 13.181368649438703.\u001b[0m\n",
      "\u001b[32m[I 2021-11-29 06:30:17,111]\u001b[0m Trial 1 finished with value: 119.05471812508868 and parameters: {'x': -8.911219827548553}. Best is trial 0 with value: 13.181368649438703.\u001b[0m\n",
      "\u001b[32m[I 2021-11-29 06:30:17,113]\u001b[0m Trial 2 finished with value: 38.202592574721386 and parameters: {'x': 8.180824586956128}. Best is trial 0 with value: 13.181368649438703.\u001b[0m\n",
      "\u001b[32m[I 2021-11-29 06:30:17,114]\u001b[0m Trial 3 finished with value: 56.579571779542945 and parameters: {'x': 9.521939362926489}. Best is trial 0 with value: 13.181368649438703.\u001b[0m\n",
      "\u001b[32m[I 2021-11-29 06:30:17,115]\u001b[0m Trial 4 finished with value: 58.96109903165571 and parameters: {'x': -5.678613092978166}. Best is trial 0 with value: 13.181368649438703.\u001b[0m\n",
      "\u001b[32m[I 2021-11-29 06:30:17,116]\u001b[0m Trial 5 finished with value: 1.35860910072567 and parameters: {'x': 0.8344061167260399}. Best is trial 5 with value: 1.35860910072567.\u001b[0m\n",
      "\u001b[32m[I 2021-11-29 06:30:17,119]\u001b[0m Trial 6 finished with value: 23.230982273217055 and parameters: {'x': -2.8198529306626208}. Best is trial 5 with value: 1.35860910072567.\u001b[0m\n",
      "\u001b[32m[I 2021-11-29 06:30:17,120]\u001b[0m Trial 7 finished with value: 85.50737536426028 and parameters: {'x': -7.247019809877142}. Best is trial 5 with value: 1.35860910072567.\u001b[0m\n",
      "\u001b[32m[I 2021-11-29 06:30:17,121]\u001b[0m Trial 8 finished with value: 51.004979220784236 and parameters: {'x': 9.141777035219192}. Best is trial 5 with value: 1.35860910072567.\u001b[0m\n",
      "\u001b[32m[I 2021-11-29 06:30:17,122]\u001b[0m Trial 9 finished with value: 13.882299250040479 and parameters: {'x': -1.7258957647846884}. Best is trial 5 with value: 1.35860910072567.\u001b[0m\n",
      "\u001b[32m[I 2021-11-29 06:30:17,128]\u001b[0m Trial 10 finished with value: 0.5381071534631815 and parameters: {'x': 2.733557873288251}. Best is trial 10 with value: 0.5381071534631815.\u001b[0m\n",
      "\u001b[32m[I 2021-11-29 06:30:17,132]\u001b[0m Trial 11 finished with value: 0.8160138864263051 and parameters: {'x': 2.9033348694843486}. Best is trial 10 with value: 0.5381071534631815.\u001b[0m\n",
      "\u001b[32m[I 2021-11-29 06:30:17,137]\u001b[0m Trial 12 finished with value: 1.133388652451272 and parameters: {'x': 3.0646072761592755}. Best is trial 10 with value: 0.5381071534631815.\u001b[0m\n",
      "\u001b[32m[I 2021-11-29 06:30:17,142]\u001b[0m Trial 13 finished with value: 0.7736384756143136 and parameters: {'x': 2.879567209265053}. Best is trial 10 with value: 0.5381071534631815.\u001b[0m\n",
      "\u001b[32m[I 2021-11-29 06:30:17,146]\u001b[0m Trial 14 finished with value: 8.457043520411375 and parameters: {'x': 4.9080996407295565}. Best is trial 10 with value: 0.5381071534631815.\u001b[0m\n",
      "\u001b[32m[I 2021-11-29 06:30:17,150]\u001b[0m Trial 15 finished with value: 2.2376797367918106 and parameters: {'x': 0.5041123916577788}. Best is trial 10 with value: 0.5381071534631815.\u001b[0m\n",
      "\u001b[32m[I 2021-11-29 06:30:17,155]\u001b[0m Trial 16 finished with value: 13.190900854362239 and parameters: {'x': 5.631927980338024}. Best is trial 10 with value: 0.5381071534631815.\u001b[0m\n",
      "\u001b[32m[I 2021-11-29 06:30:17,160]\u001b[0m Trial 17 finished with value: 18.59710436140499 and parameters: {'x': -2.3124360124418066}. Best is trial 10 with value: 0.5381071534631815.\u001b[0m\n",
      "\u001b[32m[I 2021-11-29 06:30:17,165]\u001b[0m Trial 18 finished with value: 0.336278873673389 and parameters: {'x': 2.579895571351764}. Best is trial 18 with value: 0.336278873673389.\u001b[0m\n",
      "\u001b[32m[I 2021-11-29 06:30:17,169]\u001b[0m Trial 19 finished with value: 24.909296477048397 and parameters: {'x': 6.990921405617243}. Best is trial 18 with value: 0.336278873673389.\u001b[0m\n",
      "\u001b[32m[I 2021-11-29 06:30:17,173]\u001b[0m Trial 20 finished with value: 41.54590245341079 and parameters: {'x': -4.445611100075057}. Best is trial 18 with value: 0.336278873673389.\u001b[0m\n",
      "\u001b[32m[I 2021-11-29 06:30:17,178]\u001b[0m Trial 21 finished with value: 0.5013013589595718 and parameters: {'x': 2.7080263829544573}. Best is trial 18 with value: 0.336278873673389.\u001b[0m\n",
      "\u001b[32m[I 2021-11-29 06:30:17,182]\u001b[0m Trial 22 finished with value: 1.164829526366325 and parameters: {'x': 0.9207273160288336}. Best is trial 18 with value: 0.336278873673389.\u001b[0m\n",
      "\u001b[32m[I 2021-11-29 06:30:17,187]\u001b[0m Trial 23 finished with value: 4.118950352785102 and parameters: {'x': 4.029519734514819}. Best is trial 18 with value: 0.336278873673389.\u001b[0m\n",
      "\u001b[32m[I 2021-11-29 06:30:17,192]\u001b[0m Trial 24 finished with value: 7.771456980594133 and parameters: {'x': -0.7877333051413172}. Best is trial 18 with value: 0.336278873673389.\u001b[0m\n",
      "\u001b[32m[I 2021-11-29 06:30:17,196]\u001b[0m Trial 25 finished with value: 0.07308416663727262 and parameters: {'x': 1.7296591657975573}. Best is trial 25 with value: 0.07308416663727262.\u001b[0m\n",
      "\u001b[32m[I 2021-11-29 06:30:17,202]\u001b[0m Trial 26 finished with value: 0.09687771090644388 and parameters: {'x': 1.6887481551758385}. Best is trial 25 with value: 0.07308416663727262.\u001b[0m\n",
      "\u001b[32m[I 2021-11-29 06:30:17,206]\u001b[0m Trial 27 finished with value: 7.3298732523646 and parameters: {'x': -0.7073738663813314}. Best is trial 25 with value: 0.07308416663727262.\u001b[0m\n",
      "\u001b[32m[I 2021-11-29 06:30:17,211]\u001b[0m Trial 28 finished with value: 0.6588168001514609 and parameters: {'x': 1.1883246953667612}. Best is trial 25 with value: 0.07308416663727262.\u001b[0m\n",
      "\u001b[32m[I 2021-11-29 06:30:17,215]\u001b[0m Trial 29 finished with value: 18.5214119041074 and parameters: {'x': 6.303650997014906}. Best is trial 25 with value: 0.07308416663727262.\u001b[0m\n",
      "\u001b[32m[I 2021-11-29 06:30:17,220]\u001b[0m Trial 30 finished with value: 6.74124641493019 and parameters: {'x': 4.596391036598723}. Best is trial 25 with value: 0.07308416663727262.\u001b[0m\n",
      "\u001b[32m[I 2021-11-29 06:30:17,224]\u001b[0m Trial 31 finished with value: 0.05767385168514831 and parameters: {'x': 1.759846191608069}. Best is trial 31 with value: 0.05767385168514831.\u001b[0m\n",
      "\u001b[32m[I 2021-11-29 06:30:17,229]\u001b[0m Trial 32 finished with value: 0.02900630111467754 and parameters: {'x': 1.8296876366358639}. Best is trial 32 with value: 0.02900630111467754.\u001b[0m\n",
      "\u001b[32m[I 2021-11-29 06:30:17,233]\u001b[0m Trial 33 finished with value: 0.27805150662552053 and parameters: {'x': 1.4726941052619262}. Best is trial 32 with value: 0.02900630111467754.\u001b[0m\n",
      "\u001b[32m[I 2021-11-29 06:30:17,237]\u001b[0m Trial 34 finished with value: 4.718044674147618 and parameters: {'x': -0.17210604578773214}. Best is trial 32 with value: 0.02900630111467754.\u001b[0m\n",
      "\u001b[32m[I 2021-11-29 06:30:17,242]\u001b[0m Trial 35 finished with value: 32.7547097270859 and parameters: {'x': -3.7231730471029705}. Best is trial 32 with value: 0.02900630111467754.\u001b[0m\n",
      "\u001b[32m[I 2021-11-29 06:30:17,247]\u001b[0m Trial 36 finished with value: 0.14363152997584247 and parameters: {'x': 1.621012493641489}. Best is trial 32 with value: 0.02900630111467754.\u001b[0m\n",
      "\u001b[32m[I 2021-11-29 06:30:17,251]\u001b[0m Trial 37 finished with value: 139.8468121713548 and parameters: {'x': -9.825684427184534}. Best is trial 32 with value: 0.02900630111467754.\u001b[0m\n",
      "\u001b[32m[I 2021-11-29 06:30:17,255]\u001b[0m Trial 38 finished with value: 4.582427779194508 and parameters: {'x': 4.140660594114468}. Best is trial 32 with value: 0.02900630111467754.\u001b[0m\n",
      "\u001b[32m[I 2021-11-29 06:30:17,260]\u001b[0m Trial 39 finished with value: 6.965302090412694 and parameters: {'x': -0.6391858764423346}. Best is trial 32 with value: 0.02900630111467754.\u001b[0m\n",
      "\u001b[32m[I 2021-11-29 06:30:17,265]\u001b[0m Trial 40 finished with value: 12.829572005038598 and parameters: {'x': -1.5818391930736642}. Best is trial 32 with value: 0.02900630111467754.\u001b[0m\n",
      "\u001b[32m[I 2021-11-29 06:30:17,270]\u001b[0m Trial 41 finished with value: 0.08359595955264781 and parameters: {'x': 1.7108703412780906}. Best is trial 32 with value: 0.02900630111467754.\u001b[0m\n",
      "\u001b[32m[I 2021-11-29 06:30:17,275]\u001b[0m Trial 42 finished with value: 0.04077728308671532 and parameters: {'x': 2.2019338581979637}. Best is trial 32 with value: 0.02900630111467754.\u001b[0m\n",
      "\u001b[32m[I 2021-11-29 06:30:17,280]\u001b[0m Trial 43 finished with value: 2.6362064901541076 and parameters: {'x': 3.62363988930862}. Best is trial 32 with value: 0.02900630111467754.\u001b[0m\n",
      "\u001b[32m[I 2021-11-29 06:30:17,284]\u001b[0m Trial 44 finished with value: 3.122643126835633 and parameters: {'x': 0.23289979717175258}. Best is trial 32 with value: 0.02900630111467754.\u001b[0m\n",
      "\u001b[32m[I 2021-11-29 06:30:17,289]\u001b[0m Trial 45 finished with value: 31.71247394994443 and parameters: {'x': 7.631382951810721}. Best is trial 32 with value: 0.02900630111467754.\u001b[0m\n",
      "\u001b[32m[I 2021-11-29 06:30:17,294]\u001b[0m Trial 46 finished with value: 0.14148349614956446 and parameters: {'x': 2.3761429198450563}. Best is trial 32 with value: 0.02900630111467754.\u001b[0m\n",
      "\u001b[32m[I 2021-11-29 06:30:17,299]\u001b[0m Trial 47 finished with value: 12.23122188386749 and parameters: {'x': 5.497316383152587}. Best is trial 32 with value: 0.02900630111467754.\u001b[0m\n",
      "\u001b[32m[I 2021-11-29 06:30:17,304]\u001b[0m Trial 48 finished with value: 0.000595963737036759 and parameters: {'x': 1.9755876314742555}. Best is trial 48 with value: 0.000595963737036759.\u001b[0m\n",
      "\u001b[32m[I 2021-11-29 06:30:17,309]\u001b[0m Trial 49 finished with value: 2.245787315538197 and parameters: {'x': 3.498595113944456}. Best is trial 48 with value: 0.000595963737036759.\u001b[0m\n",
      "\u001b[32m[I 2021-11-29 06:30:17,313]\u001b[0m Trial 50 finished with value: 11.009803626157781 and parameters: {'x': -1.3181024134522703}. Best is trial 48 with value: 0.000595963737036759.\u001b[0m\n",
      "\u001b[32m[I 2021-11-29 06:30:17,318]\u001b[0m Trial 51 finished with value: 0.00997405675485074 and parameters: {'x': 2.099870199533448}. Best is trial 48 with value: 0.000595963737036759.\u001b[0m\n",
      "\u001b[32m[I 2021-11-29 06:30:17,323]\u001b[0m Trial 52 finished with value: 2.081716834960282 and parameters: {'x': 0.557184407153748}. Best is trial 48 with value: 0.000595963737036759.\u001b[0m\n",
      "\u001b[32m[I 2021-11-29 06:30:17,328]\u001b[0m Trial 53 finished with value: 0.003640347196052341 and parameters: {'x': 2.060335289806649}. Best is trial 48 with value: 0.000595963737036759.\u001b[0m\n",
      "\u001b[32m[I 2021-11-29 06:30:17,333]\u001b[0m Trial 54 finished with value: 4.357259633701227 and parameters: {'x': -0.08740499992244599}. Best is trial 48 with value: 0.000595963737036759.\u001b[0m\n",
      "\u001b[32m[I 2021-11-29 06:30:17,338]\u001b[0m Trial 55 finished with value: 0.09571852493478479 and parameters: {'x': 2.309384105821202}. Best is trial 48 with value: 0.000595963737036759.\u001b[0m\n",
      "\u001b[32m[I 2021-11-29 06:30:17,342]\u001b[0m Trial 56 finished with value: 8.730739692601775 and parameters: {'x': 4.954782511895211}. Best is trial 48 with value: 0.000595963737036759.\u001b[0m\n",
      "\u001b[32m[I 2021-11-29 06:30:17,347]\u001b[0m Trial 57 finished with value: 1.7931763268766445 and parameters: {'x': 3.3390953389795084}. Best is trial 48 with value: 0.000595963737036759.\u001b[0m\n",
      "\u001b[32m[I 2021-11-29 06:30:17,351]\u001b[0m Trial 58 finished with value: 63.92486499526696 and parameters: {'x': 9.995302683155089}. Best is trial 48 with value: 0.000595963737036759.\u001b[0m\n",
      "\u001b[32m[I 2021-11-29 06:30:17,356]\u001b[0m Trial 59 finished with value: 18.094685004849584 and parameters: {'x': -2.253784785911199}. Best is trial 48 with value: 0.000595963737036759.\u001b[0m\n",
      "\u001b[32m[I 2021-11-29 06:30:17,361]\u001b[0m Trial 60 finished with value: 0.026805709691879686 and parameters: {'x': 2.163724493255834}. Best is trial 48 with value: 0.000595963737036759.\u001b[0m\n",
      "\u001b[32m[I 2021-11-29 06:30:17,365]\u001b[0m Trial 61 finished with value: 0.11847326418524981 and parameters: {'x': 2.344199454074596}. Best is trial 48 with value: 0.000595963737036759.\u001b[0m\n",
      "\u001b[32m[I 2021-11-29 06:30:17,370]\u001b[0m Trial 62 finished with value: 1.4748076815970572 and parameters: {'x': 0.7855833986654097}. Best is trial 48 with value: 0.000595963737036759.\u001b[0m\n",
      "\u001b[32m[I 2021-11-29 06:30:17,375]\u001b[0m Trial 63 finished with value: 5.4630300995301955 and parameters: {'x': 4.337312580621213}. Best is trial 48 with value: 0.000595963737036759.\u001b[0m\n",
      "\u001b[32m[I 2021-11-29 06:30:17,380]\u001b[0m Trial 64 finished with value: 72.93604117772544 and parameters: {'x': -6.540260018156674}. Best is trial 48 with value: 0.000595963737036759.\u001b[0m\n",
      "\u001b[32m[I 2021-11-29 06:30:17,385]\u001b[0m Trial 65 finished with value: 1.1804771719837854 and parameters: {'x': 3.0864976631285432}. Best is trial 48 with value: 0.000595963737036759.\u001b[0m\n",
      "\u001b[32m[I 2021-11-29 06:30:17,391]\u001b[0m Trial 66 finished with value: 1.2190774845204193 and parameters: {'x': 0.8958815803907538}. Best is trial 48 with value: 0.000595963737036759.\u001b[0m\n",
      "\u001b[32m[I 2021-11-29 06:30:17,396]\u001b[0m Trial 67 finished with value: 0.11593282672026492 and parameters: {'x': 2.3404890992678986}. Best is trial 48 with value: 0.000595963737036759.\u001b[0m\n",
      "\u001b[32m[I 2021-11-29 06:30:17,400]\u001b[0m Trial 68 finished with value: 3.0629626961560668 and parameters: {'x': 3.7501321939088106}. Best is trial 48 with value: 0.000595963737036759.\u001b[0m\n",
      "\u001b[32m[I 2021-11-29 06:30:17,406]\u001b[0m Trial 69 finished with value: 0.04860606946683014 and parameters: {'x': 1.7795321577489585}. Best is trial 48 with value: 0.000595963737036759.\u001b[0m\n",
      "\u001b[32m[I 2021-11-29 06:30:17,411]\u001b[0m Trial 70 finished with value: 4.349839978322759 and parameters: {'x': -0.0856269988477707}. Best is trial 48 with value: 0.000595963737036759.\u001b[0m\n",
      "\u001b[32m[I 2021-11-29 06:30:17,416]\u001b[0m Trial 71 finished with value: 0.00401472192989228 and parameters: {'x': 1.936638166615128}. Best is trial 48 with value: 0.000595963737036759.\u001b[0m\n",
      "\u001b[32m[I 2021-11-29 06:30:17,421]\u001b[0m Trial 72 finished with value: 0.5911125006881273 and parameters: {'x': 1.2311615900020816}. Best is trial 48 with value: 0.000595963737036759.\u001b[0m\n",
      "\u001b[32m[I 2021-11-29 06:30:17,426]\u001b[0m Trial 73 finished with value: 0.006105426621226661 and parameters: {'x': 1.921862770581325}. Best is trial 48 with value: 0.000595963737036759.\u001b[0m\n",
      "\u001b[32m[I 2021-11-29 06:30:17,430]\u001b[0m Trial 74 finished with value: 0.7342901743782647 and parameters: {'x': 2.856907331266494}. Best is trial 48 with value: 0.000595963737036759.\u001b[0m\n",
      "\u001b[32m[I 2021-11-29 06:30:17,435]\u001b[0m Trial 75 finished with value: 0.025819294386438308 and parameters: {'x': 2.1606838336188128}. Best is trial 48 with value: 0.000595963737036759.\u001b[0m\n",
      "\u001b[32m[I 2021-11-29 06:30:17,440]\u001b[0m Trial 76 finished with value: 2.532591517527154 and parameters: {'x': 0.4085881998906902}. Best is trial 48 with value: 0.000595963737036759.\u001b[0m\n",
      "\u001b[32m[I 2021-11-29 06:30:17,446]\u001b[0m Trial 77 finished with value: 0.9062066335106491 and parameters: {'x': 2.9519488607644053}. Best is trial 48 with value: 0.000595963737036759.\u001b[0m\n",
      "\u001b[32m[I 2021-11-29 06:30:17,450]\u001b[0m Trial 78 finished with value: 0.675183374780637 and parameters: {'x': 1.178304572983008}. Best is trial 48 with value: 0.000595963737036759.\u001b[0m\n",
      "\u001b[32m[I 2021-11-29 06:30:17,456]\u001b[0m Trial 79 finished with value: 9.190444927326839 and parameters: {'x': 5.031574661347934}. Best is trial 48 with value: 0.000595963737036759.\u001b[0m\n",
      "\u001b[32m[I 2021-11-29 06:30:17,461]\u001b[0m Trial 80 finished with value: 7.0890655457636145 and parameters: {'x': -0.66252991452934}. Best is trial 48 with value: 0.000595963737036759.\u001b[0m\n",
      "\u001b[32m[I 2021-11-29 06:30:17,466]\u001b[0m Trial 81 finished with value: 0.00717510911134968 and parameters: {'x': 1.9152939842080288}. Best is trial 48 with value: 0.000595963737036759.\u001b[0m\n",
      "\u001b[32m[I 2021-11-29 06:30:17,471]\u001b[0m Trial 82 finished with value: 0.0008951540767052459 and parameters: {'x': 1.9700808743993872}. Best is trial 48 with value: 0.000595963737036759.\u001b[0m\n",
      "\u001b[32m[I 2021-11-29 06:30:17,476]\u001b[0m Trial 83 finished with value: 0.005810867595740094 and parameters: {'x': 2.076229046929239}. Best is trial 48 with value: 0.000595963737036759.\u001b[0m\n",
      "\u001b[32m[I 2021-11-29 06:30:17,480]\u001b[0m Trial 84 finished with value: 3.7945368397939236 and parameters: {'x': 3.9479570939304396}. Best is trial 48 with value: 0.000595963737036759.\u001b[0m\n",
      "\u001b[32m[I 2021-11-29 06:30:17,485]\u001b[0m Trial 85 finished with value: 0.4309344299145328 and parameters: {'x': 1.3435440380996355}. Best is trial 48 with value: 0.000595963737036759.\u001b[0m\n",
      "\u001b[32m[I 2021-11-29 06:30:17,490]\u001b[0m Trial 86 finished with value: 1.7878964040231593 and parameters: {'x': 3.3371224341933536}. Best is trial 48 with value: 0.000595963737036759.\u001b[0m\n",
      "\u001b[32m[I 2021-11-29 06:30:17,494]\u001b[0m Trial 87 finished with value: 0.6538010934141226 and parameters: {'x': 2.8085796766022026}. Best is trial 48 with value: 0.000595963737036759.\u001b[0m\n",
      "\u001b[32m[I 2021-11-29 06:30:17,499]\u001b[0m Trial 88 finished with value: 1.5058179661864939 and parameters: {'x': 0.7728822525175125}. Best is trial 48 with value: 0.000595963737036759.\u001b[0m\n",
      "\u001b[32m[I 2021-11-29 06:30:17,504]\u001b[0m Trial 89 finished with value: 0.00020944111496273415 and parameters: {'x': 2.0144720805333143}. Best is trial 89 with value: 0.00020944111496273415.\u001b[0m\n",
      "\u001b[32m[I 2021-11-29 06:30:17,509]\u001b[0m Trial 90 finished with value: 10.297935634593372 and parameters: {'x': -1.2090396748238206}. Best is trial 89 with value: 0.00020944111496273415.\u001b[0m\n",
      "\u001b[32m[I 2021-11-29 06:30:17,514]\u001b[0m Trial 91 finished with value: 0.00019228063747025645 and parameters: {'x': 1.9861334706047167}. Best is trial 91 with value: 0.00019228063747025645.\u001b[0m\n",
      "\u001b[32m[I 2021-11-29 06:30:17,519]\u001b[0m Trial 92 finished with value: 0.016561626813319606 and parameters: {'x': 1.8713080157378883}. Best is trial 91 with value: 0.00019228063747025645.\u001b[0m\n",
      "\u001b[32m[I 2021-11-29 06:30:17,525]\u001b[0m Trial 93 finished with value: 0.5480224185724467 and parameters: {'x': 1.259714637067268}. Best is trial 91 with value: 0.00019228063747025645.\u001b[0m\n",
      "\u001b[32m[I 2021-11-29 06:30:17,530]\u001b[0m Trial 94 finished with value: 2.6039451059476124 and parameters: {'x': 0.38632558861844357}. Best is trial 91 with value: 0.00019228063747025645.\u001b[0m\n",
      "\u001b[32m[I 2021-11-29 06:30:17,534]\u001b[0m Trial 95 finished with value: 0.34982462335917475 and parameters: {'x': 2.59145973942372}. Best is trial 91 with value: 0.00019228063747025645.\u001b[0m\n",
      "\u001b[32m[I 2021-11-29 06:30:17,539]\u001b[0m Trial 96 finished with value: 6.196451502684244 and parameters: {'x': 4.4892672622047325}. Best is trial 91 with value: 0.00019228063747025645.\u001b[0m\n",
      "\u001b[32m[I 2021-11-29 06:30:17,543]\u001b[0m Trial 97 finished with value: 1.6623827248890326 and parameters: {'x': 3.28933421768331}. Best is trial 91 with value: 0.00019228063747025645.\u001b[0m\n",
      "\u001b[32m[I 2021-11-29 06:30:17,548]\u001b[0m Trial 98 finished with value: 3.951939823148437 and parameters: {'x': 0.01205135299011384}. Best is trial 91 with value: 0.00019228063747025645.\u001b[0m\n",
      "\u001b[32m[I 2021-11-29 06:30:17,553]\u001b[0m Trial 99 finished with value: 3.1150021767126663 and parameters: {'x': 3.7649368761269244}. Best is trial 91 with value: 0.00019228063747025645.\u001b[0m\n"
     ]
    }
   ],
   "source": [
    "study = optuna.create_study()\n",
    "study.optimize(objective, n_trials=100)"
   ]
  },
  {
   "cell_type": "markdown",
   "metadata": {},
   "source": [
    "You can get the best parameter as follows.\n",
    "\n"
   ]
  },
  {
   "cell_type": "code",
   "execution_count": 5,
   "metadata": {
    "collapsed": false,
    "jupyter": {
     "outputs_hidden": false
    }
   },
   "outputs": [
    {
     "name": "stdout",
     "output_type": "stream",
     "text": [
      "Found x: 1.9861334706047167, (x - 2)^2: 0.00019228063747025645\n"
     ]
    }
   ],
   "source": [
    "best_params = study.best_params\n",
    "found_x = best_params[\"x\"]\n",
    "print(\"Found x: {}, (x - 2)^2: {}\".format(found_x, (found_x - 2) ** 2))"
   ]
  },
  {
   "cell_type": "markdown",
   "metadata": {},
   "source": [
    "We can see that the ``x`` value found by Optuna is close to the optimal value of ``2``.\n",
    "\n"
   ]
  },
  {
   "cell_type": "markdown",
   "metadata": {},
   "source": [
    "<div class=\"alert alert-info\"><h4>Note</h4><p>When used to search for hyperparameters in machine learning,\n",
    "    usually the objective function would return the loss or accuracy\n",
    "    of the model.</p></div>\n",
    "\n"
   ]
  },
  {
   "cell_type": "markdown",
   "metadata": {},
   "source": [
    "## Study Object\n",
    "\n",
    "Let us clarify the terminology in Optuna as follows:\n",
    "\n",
    "* **Trial**: A single call of the objective function\n",
    "* **Study**: An optimization session, which is a set of trials\n",
    "* **Parameter**: A variable whose value is to be optimized, such as ``x`` in the above example\n",
    "\n",
    "In Optuna, we use the study object to manage optimization.\n",
    "Method :func:`~optuna.study.create_study` returns a study object.\n",
    "A study object has useful properties for analyzing the optimization outcome.\n",
    "\n"
   ]
  },
  {
   "cell_type": "markdown",
   "metadata": {},
   "source": [
    "To get the dictionary of parameter name and parameter values:\n",
    "\n"
   ]
  },
  {
   "cell_type": "code",
   "execution_count": 6,
   "metadata": {
    "collapsed": false,
    "jupyter": {
     "outputs_hidden": false
    }
   },
   "outputs": [
    {
     "data": {
      "text/plain": [
       "{'x': 1.9861334706047167}"
      ]
     },
     "execution_count": 6,
     "metadata": {},
     "output_type": "execute_result"
    }
   ],
   "source": [
    "study.best_params"
   ]
  },
  {
   "cell_type": "markdown",
   "metadata": {},
   "source": [
    "To get the best observed value of the objective function:\n",
    "\n"
   ]
  },
  {
   "cell_type": "code",
   "execution_count": 7,
   "metadata": {
    "collapsed": false,
    "jupyter": {
     "outputs_hidden": false
    }
   },
   "outputs": [
    {
     "data": {
      "text/plain": [
       "0.00019228063747025645"
      ]
     },
     "execution_count": 7,
     "metadata": {},
     "output_type": "execute_result"
    }
   ],
   "source": [
    "study.best_value"
   ]
  },
  {
   "cell_type": "markdown",
   "metadata": {},
   "source": [
    "To get the best trial:\n",
    "\n"
   ]
  },
  {
   "cell_type": "code",
   "execution_count": 8,
   "metadata": {
    "collapsed": false,
    "jupyter": {
     "outputs_hidden": false
    }
   },
   "outputs": [
    {
     "data": {
      "text/plain": [
       "FrozenTrial(number=91, values=[0.00019228063747025645], datetime_start=datetime.datetime(2021, 11, 29, 6, 30, 17, 510139), datetime_complete=datetime.datetime(2021, 11, 29, 6, 30, 17, 514270), params={'x': 1.9861334706047167}, distributions={'x': UniformDistribution(high=10.0, low=-10.0)}, user_attrs={}, system_attrs={}, intermediate_values={}, trial_id=91, state=TrialState.COMPLETE, value=None)"
      ]
     },
     "execution_count": 8,
     "metadata": {},
     "output_type": "execute_result"
    }
   ],
   "source": [
    "study.best_trial"
   ]
  },
  {
   "cell_type": "markdown",
   "metadata": {},
   "source": [
    "To get all trials:\n",
    "\n"
   ]
  },
  {
   "cell_type": "code",
   "execution_count": 9,
   "metadata": {
    "collapsed": true,
    "jupyter": {
     "outputs_hidden": true
    },
    "tags": []
   },
   "outputs": [
    {
     "data": {
      "text/plain": [
       "[FrozenTrial(number=0, values=[13.181368649438703], datetime_start=datetime.datetime(2021, 11, 29, 6, 30, 17, 109698), datetime_complete=datetime.datetime(2021, 11, 29, 6, 30, 17, 110164), params={'x': 5.630615464275817}, distributions={'x': UniformDistribution(high=10.0, low=-10.0)}, user_attrs={}, system_attrs={}, intermediate_values={}, trial_id=0, state=TrialState.COMPLETE, value=None),\n",
       " FrozenTrial(number=1, values=[119.05471812508868], datetime_start=datetime.datetime(2021, 11, 29, 6, 30, 17, 111451), datetime_complete=datetime.datetime(2021, 11, 29, 6, 30, 17, 111701), params={'x': -8.911219827548553}, distributions={'x': UniformDistribution(high=10.0, low=-10.0)}, user_attrs={}, system_attrs={}, intermediate_values={}, trial_id=1, state=TrialState.COMPLETE, value=None),\n",
       " FrozenTrial(number=2, values=[38.202592574721386], datetime_start=datetime.datetime(2021, 11, 29, 6, 30, 17, 112632), datetime_complete=datetime.datetime(2021, 11, 29, 6, 30, 17, 112917), params={'x': 8.180824586956128}, distributions={'x': UniformDistribution(high=10.0, low=-10.0)}, user_attrs={}, system_attrs={}, intermediate_values={}, trial_id=2, state=TrialState.COMPLETE, value=None),\n",
       " FrozenTrial(number=3, values=[56.579571779542945], datetime_start=datetime.datetime(2021, 11, 29, 6, 30, 17, 113897), datetime_complete=datetime.datetime(2021, 11, 29, 6, 30, 17, 114131), params={'x': 9.521939362926489}, distributions={'x': UniformDistribution(high=10.0, low=-10.0)}, user_attrs={}, system_attrs={}, intermediate_values={}, trial_id=3, state=TrialState.COMPLETE, value=None),\n",
       " FrozenTrial(number=4, values=[58.96109903165571], datetime_start=datetime.datetime(2021, 11, 29, 6, 30, 17, 115226), datetime_complete=datetime.datetime(2021, 11, 29, 6, 30, 17, 115457), params={'x': -5.678613092978166}, distributions={'x': UniformDistribution(high=10.0, low=-10.0)}, user_attrs={}, system_attrs={}, intermediate_values={}, trial_id=4, state=TrialState.COMPLETE, value=None),\n",
       " FrozenTrial(number=5, values=[1.35860910072567], datetime_start=datetime.datetime(2021, 11, 29, 6, 30, 17, 116336), datetime_complete=datetime.datetime(2021, 11, 29, 6, 30, 17, 116569), params={'x': 0.8344061167260399}, distributions={'x': UniformDistribution(high=10.0, low=-10.0)}, user_attrs={}, system_attrs={}, intermediate_values={}, trial_id=5, state=TrialState.COMPLETE, value=None),\n",
       " FrozenTrial(number=6, values=[23.230982273217055], datetime_start=datetime.datetime(2021, 11, 29, 6, 30, 17, 117701), datetime_complete=datetime.datetime(2021, 11, 29, 6, 30, 17, 119345), params={'x': -2.8198529306626208}, distributions={'x': UniformDistribution(high=10.0, low=-10.0)}, user_attrs={}, system_attrs={}, intermediate_values={}, trial_id=6, state=TrialState.COMPLETE, value=None),\n",
       " FrozenTrial(number=7, values=[85.50737536426028], datetime_start=datetime.datetime(2021, 11, 29, 6, 30, 17, 120240), datetime_complete=datetime.datetime(2021, 11, 29, 6, 30, 17, 120478), params={'x': -7.247019809877142}, distributions={'x': UniformDistribution(high=10.0, low=-10.0)}, user_attrs={}, system_attrs={}, intermediate_values={}, trial_id=7, state=TrialState.COMPLETE, value=None),\n",
       " FrozenTrial(number=8, values=[51.004979220784236], datetime_start=datetime.datetime(2021, 11, 29, 6, 30, 17, 121282), datetime_complete=datetime.datetime(2021, 11, 29, 6, 30, 17, 121521), params={'x': 9.141777035219192}, distributions={'x': UniformDistribution(high=10.0, low=-10.0)}, user_attrs={}, system_attrs={}, intermediate_values={}, trial_id=8, state=TrialState.COMPLETE, value=None),\n",
       " FrozenTrial(number=9, values=[13.882299250040479], datetime_start=datetime.datetime(2021, 11, 29, 6, 30, 17, 122340), datetime_complete=datetime.datetime(2021, 11, 29, 6, 30, 17, 122582), params={'x': -1.7258957647846884}, distributions={'x': UniformDistribution(high=10.0, low=-10.0)}, user_attrs={}, system_attrs={}, intermediate_values={}, trial_id=9, state=TrialState.COMPLETE, value=None),\n",
       " FrozenTrial(number=10, values=[0.5381071534631815], datetime_start=datetime.datetime(2021, 11, 29, 6, 30, 17, 123419), datetime_complete=datetime.datetime(2021, 11, 29, 6, 30, 17, 128094), params={'x': 2.733557873288251}, distributions={'x': UniformDistribution(high=10.0, low=-10.0)}, user_attrs={}, system_attrs={}, intermediate_values={}, trial_id=10, state=TrialState.COMPLETE, value=None),\n",
       " FrozenTrial(number=11, values=[0.8160138864263051], datetime_start=datetime.datetime(2021, 11, 29, 6, 30, 17, 128878), datetime_complete=datetime.datetime(2021, 11, 29, 6, 30, 17, 132619), params={'x': 2.9033348694843486}, distributions={'x': UniformDistribution(high=10.0, low=-10.0)}, user_attrs={}, system_attrs={}, intermediate_values={}, trial_id=11, state=TrialState.COMPLETE, value=None),\n",
       " FrozenTrial(number=12, values=[1.133388652451272], datetime_start=datetime.datetime(2021, 11, 29, 6, 30, 17, 133821), datetime_complete=datetime.datetime(2021, 11, 29, 6, 30, 17, 137306), params={'x': 3.0646072761592755}, distributions={'x': UniformDistribution(high=10.0, low=-10.0)}, user_attrs={}, system_attrs={}, intermediate_values={}, trial_id=12, state=TrialState.COMPLETE, value=None),\n",
       " FrozenTrial(number=13, values=[0.7736384756143136], datetime_start=datetime.datetime(2021, 11, 29, 6, 30, 17, 138180), datetime_complete=datetime.datetime(2021, 11, 29, 6, 30, 17, 141921), params={'x': 2.879567209265053}, distributions={'x': UniformDistribution(high=10.0, low=-10.0)}, user_attrs={}, system_attrs={}, intermediate_values={}, trial_id=13, state=TrialState.COMPLETE, value=None),\n",
       " FrozenTrial(number=14, values=[8.457043520411375], datetime_start=datetime.datetime(2021, 11, 29, 6, 30, 17, 142706), datetime_complete=datetime.datetime(2021, 11, 29, 6, 30, 17, 146306), params={'x': 4.9080996407295565}, distributions={'x': UniformDistribution(high=10.0, low=-10.0)}, user_attrs={}, system_attrs={}, intermediate_values={}, trial_id=14, state=TrialState.COMPLETE, value=None),\n",
       " FrozenTrial(number=15, values=[2.2376797367918106], datetime_start=datetime.datetime(2021, 11, 29, 6, 30, 17, 147136), datetime_complete=datetime.datetime(2021, 11, 29, 6, 30, 17, 150699), params={'x': 0.5041123916577788}, distributions={'x': UniformDistribution(high=10.0, low=-10.0)}, user_attrs={}, system_attrs={}, intermediate_values={}, trial_id=15, state=TrialState.COMPLETE, value=None),\n",
       " FrozenTrial(number=16, values=[13.190900854362239], datetime_start=datetime.datetime(2021, 11, 29, 6, 30, 17, 151535), datetime_complete=datetime.datetime(2021, 11, 29, 6, 30, 17, 155126), params={'x': 5.631927980338024}, distributions={'x': UniformDistribution(high=10.0, low=-10.0)}, user_attrs={}, system_attrs={}, intermediate_values={}, trial_id=16, state=TrialState.COMPLETE, value=None),\n",
       " FrozenTrial(number=17, values=[18.59710436140499], datetime_start=datetime.datetime(2021, 11, 29, 6, 30, 17, 155988), datetime_complete=datetime.datetime(2021, 11, 29, 6, 30, 17, 160522), params={'x': -2.3124360124418066}, distributions={'x': UniformDistribution(high=10.0, low=-10.0)}, user_attrs={}, system_attrs={}, intermediate_values={}, trial_id=17, state=TrialState.COMPLETE, value=None),\n",
       " FrozenTrial(number=18, values=[0.336278873673389], datetime_start=datetime.datetime(2021, 11, 29, 6, 30, 17, 161335), datetime_complete=datetime.datetime(2021, 11, 29, 6, 30, 17, 164949), params={'x': 2.579895571351764}, distributions={'x': UniformDistribution(high=10.0, low=-10.0)}, user_attrs={}, system_attrs={}, intermediate_values={}, trial_id=18, state=TrialState.COMPLETE, value=None),\n",
       " FrozenTrial(number=19, values=[24.909296477048397], datetime_start=datetime.datetime(2021, 11, 29, 6, 30, 17, 165837), datetime_complete=datetime.datetime(2021, 11, 29, 6, 30, 17, 169375), params={'x': 6.990921405617243}, distributions={'x': UniformDistribution(high=10.0, low=-10.0)}, user_attrs={}, system_attrs={}, intermediate_values={}, trial_id=19, state=TrialState.COMPLETE, value=None),\n",
       " FrozenTrial(number=20, values=[41.54590245341079], datetime_start=datetime.datetime(2021, 11, 29, 6, 30, 17, 170183), datetime_complete=datetime.datetime(2021, 11, 29, 6, 30, 17, 173767), params={'x': -4.445611100075057}, distributions={'x': UniformDistribution(high=10.0, low=-10.0)}, user_attrs={}, system_attrs={}, intermediate_values={}, trial_id=20, state=TrialState.COMPLETE, value=None),\n",
       " FrozenTrial(number=21, values=[0.5013013589595718], datetime_start=datetime.datetime(2021, 11, 29, 6, 30, 17, 174567), datetime_complete=datetime.datetime(2021, 11, 29, 6, 30, 17, 178173), params={'x': 2.7080263829544573}, distributions={'x': UniformDistribution(high=10.0, low=-10.0)}, user_attrs={}, system_attrs={}, intermediate_values={}, trial_id=21, state=TrialState.COMPLETE, value=None),\n",
       " FrozenTrial(number=22, values=[1.164829526366325], datetime_start=datetime.datetime(2021, 11, 29, 6, 30, 17, 179037), datetime_complete=datetime.datetime(2021, 11, 29, 6, 30, 17, 182590), params={'x': 0.9207273160288336}, distributions={'x': UniformDistribution(high=10.0, low=-10.0)}, user_attrs={}, system_attrs={}, intermediate_values={}, trial_id=22, state=TrialState.COMPLETE, value=None),\n",
       " FrozenTrial(number=23, values=[4.118950352785102], datetime_start=datetime.datetime(2021, 11, 29, 6, 30, 17, 183428), datetime_complete=datetime.datetime(2021, 11, 29, 6, 30, 17, 187696), params={'x': 4.029519734514819}, distributions={'x': UniformDistribution(high=10.0, low=-10.0)}, user_attrs={}, system_attrs={}, intermediate_values={}, trial_id=23, state=TrialState.COMPLETE, value=None),\n",
       " FrozenTrial(number=24, values=[7.771456980594133], datetime_start=datetime.datetime(2021, 11, 29, 6, 30, 17, 188438), datetime_complete=datetime.datetime(2021, 11, 29, 6, 30, 17, 192279), params={'x': -0.7877333051413172}, distributions={'x': UniformDistribution(high=10.0, low=-10.0)}, user_attrs={}, system_attrs={}, intermediate_values={}, trial_id=24, state=TrialState.COMPLETE, value=None),\n",
       " FrozenTrial(number=25, values=[0.07308416663727262], datetime_start=datetime.datetime(2021, 11, 29, 6, 30, 17, 193036), datetime_complete=datetime.datetime(2021, 11, 29, 6, 30, 17, 196771), params={'x': 1.7296591657975573}, distributions={'x': UniformDistribution(high=10.0, low=-10.0)}, user_attrs={}, system_attrs={}, intermediate_values={}, trial_id=25, state=TrialState.COMPLETE, value=None),\n",
       " FrozenTrial(number=26, values=[0.09687771090644388], datetime_start=datetime.datetime(2021, 11, 29, 6, 30, 17, 197716), datetime_complete=datetime.datetime(2021, 11, 29, 6, 30, 17, 202014), params={'x': 1.6887481551758385}, distributions={'x': UniformDistribution(high=10.0, low=-10.0)}, user_attrs={}, system_attrs={}, intermediate_values={}, trial_id=26, state=TrialState.COMPLETE, value=None),\n",
       " FrozenTrial(number=27, values=[7.3298732523646], datetime_start=datetime.datetime(2021, 11, 29, 6, 30, 17, 202774), datetime_complete=datetime.datetime(2021, 11, 29, 6, 30, 17, 206674), params={'x': -0.7073738663813314}, distributions={'x': UniformDistribution(high=10.0, low=-10.0)}, user_attrs={}, system_attrs={}, intermediate_values={}, trial_id=27, state=TrialState.COMPLETE, value=None),\n",
       " FrozenTrial(number=28, values=[0.6588168001514609], datetime_start=datetime.datetime(2021, 11, 29, 6, 30, 17, 207470), datetime_complete=datetime.datetime(2021, 11, 29, 6, 30, 17, 211475), params={'x': 1.1883246953667612}, distributions={'x': UniformDistribution(high=10.0, low=-10.0)}, user_attrs={}, system_attrs={}, intermediate_values={}, trial_id=28, state=TrialState.COMPLETE, value=None),\n",
       " FrozenTrial(number=29, values=[18.5214119041074], datetime_start=datetime.datetime(2021, 11, 29, 6, 30, 17, 212498), datetime_complete=datetime.datetime(2021, 11, 29, 6, 30, 17, 215413), params={'x': 6.303650997014906}, distributions={'x': UniformDistribution(high=10.0, low=-10.0)}, user_attrs={}, system_attrs={}, intermediate_values={}, trial_id=29, state=TrialState.COMPLETE, value=None),\n",
       " FrozenTrial(number=30, values=[6.74124641493019], datetime_start=datetime.datetime(2021, 11, 29, 6, 30, 17, 216273), datetime_complete=datetime.datetime(2021, 11, 29, 6, 30, 17, 220187), params={'x': 4.596391036598723}, distributions={'x': UniformDistribution(high=10.0, low=-10.0)}, user_attrs={}, system_attrs={}, intermediate_values={}, trial_id=30, state=TrialState.COMPLETE, value=None),\n",
       " FrozenTrial(number=31, values=[0.05767385168514831], datetime_start=datetime.datetime(2021, 11, 29, 6, 30, 17, 221124), datetime_complete=datetime.datetime(2021, 11, 29, 6, 30, 17, 224320), params={'x': 1.759846191608069}, distributions={'x': UniformDistribution(high=10.0, low=-10.0)}, user_attrs={}, system_attrs={}, intermediate_values={}, trial_id=31, state=TrialState.COMPLETE, value=None),\n",
       " FrozenTrial(number=32, values=[0.02900630111467754], datetime_start=datetime.datetime(2021, 11, 29, 6, 30, 17, 225240), datetime_complete=datetime.datetime(2021, 11, 29, 6, 30, 17, 229103), params={'x': 1.8296876366358639}, distributions={'x': UniformDistribution(high=10.0, low=-10.0)}, user_attrs={}, system_attrs={}, intermediate_values={}, trial_id=32, state=TrialState.COMPLETE, value=None),\n",
       " FrozenTrial(number=33, values=[0.27805150662552053], datetime_start=datetime.datetime(2021, 11, 29, 6, 30, 17, 230086), datetime_complete=datetime.datetime(2021, 11, 29, 6, 30, 17, 233231), params={'x': 1.4726941052619262}, distributions={'x': UniformDistribution(high=10.0, low=-10.0)}, user_attrs={}, system_attrs={}, intermediate_values={}, trial_id=33, state=TrialState.COMPLETE, value=None),\n",
       " FrozenTrial(number=34, values=[4.718044674147618], datetime_start=datetime.datetime(2021, 11, 29, 6, 30, 17, 234257), datetime_complete=datetime.datetime(2021, 11, 29, 6, 30, 17, 237272), params={'x': -0.17210604578773214}, distributions={'x': UniformDistribution(high=10.0, low=-10.0)}, user_attrs={}, system_attrs={}, intermediate_values={}, trial_id=34, state=TrialState.COMPLETE, value=None),\n",
       " FrozenTrial(number=35, values=[32.7547097270859], datetime_start=datetime.datetime(2021, 11, 29, 6, 30, 17, 238092), datetime_complete=datetime.datetime(2021, 11, 29, 6, 30, 17, 242030), params={'x': -3.7231730471029705}, distributions={'x': UniformDistribution(high=10.0, low=-10.0)}, user_attrs={}, system_attrs={}, intermediate_values={}, trial_id=35, state=TrialState.COMPLETE, value=None),\n",
       " FrozenTrial(number=36, values=[0.14363152997584247], datetime_start=datetime.datetime(2021, 11, 29, 6, 30, 17, 242828), datetime_complete=datetime.datetime(2021, 11, 29, 6, 30, 17, 246900), params={'x': 1.621012493641489}, distributions={'x': UniformDistribution(high=10.0, low=-10.0)}, user_attrs={}, system_attrs={}, intermediate_values={}, trial_id=36, state=TrialState.COMPLETE, value=None),\n",
       " FrozenTrial(number=37, values=[139.8468121713548], datetime_start=datetime.datetime(2021, 11, 29, 6, 30, 17, 247659), datetime_complete=datetime.datetime(2021, 11, 29, 6, 30, 17, 251688), params={'x': -9.825684427184534}, distributions={'x': UniformDistribution(high=10.0, low=-10.0)}, user_attrs={}, system_attrs={}, intermediate_values={}, trial_id=37, state=TrialState.COMPLETE, value=None),\n",
       " FrozenTrial(number=38, values=[4.582427779194508], datetime_start=datetime.datetime(2021, 11, 29, 6, 30, 17, 252702), datetime_complete=datetime.datetime(2021, 11, 29, 6, 30, 17, 255756), params={'x': 4.140660594114468}, distributions={'x': UniformDistribution(high=10.0, low=-10.0)}, user_attrs={}, system_attrs={}, intermediate_values={}, trial_id=38, state=TrialState.COMPLETE, value=None),\n",
       " FrozenTrial(number=39, values=[6.965302090412694], datetime_start=datetime.datetime(2021, 11, 29, 6, 30, 17, 256579), datetime_complete=datetime.datetime(2021, 11, 29, 6, 30, 17, 260485), params={'x': -0.6391858764423346}, distributions={'x': UniformDistribution(high=10.0, low=-10.0)}, user_attrs={}, system_attrs={}, intermediate_values={}, trial_id=39, state=TrialState.COMPLETE, value=None),\n",
       " FrozenTrial(number=40, values=[12.829572005038598], datetime_start=datetime.datetime(2021, 11, 29, 6, 30, 17, 261286), datetime_complete=datetime.datetime(2021, 11, 29, 6, 30, 17, 265399), params={'x': -1.5818391930736642}, distributions={'x': UniformDistribution(high=10.0, low=-10.0)}, user_attrs={}, system_attrs={}, intermediate_values={}, trial_id=40, state=TrialState.COMPLETE, value=None),\n",
       " FrozenTrial(number=41, values=[0.08359595955264781], datetime_start=datetime.datetime(2021, 11, 29, 6, 30, 17, 266310), datetime_complete=datetime.datetime(2021, 11, 29, 6, 30, 17, 270218), params={'x': 1.7108703412780906}, distributions={'x': UniformDistribution(high=10.0, low=-10.0)}, user_attrs={}, system_attrs={}, intermediate_values={}, trial_id=41, state=TrialState.COMPLETE, value=None),\n",
       " FrozenTrial(number=42, values=[0.04077728308671532], datetime_start=datetime.datetime(2021, 11, 29, 6, 30, 17, 271102), datetime_complete=datetime.datetime(2021, 11, 29, 6, 30, 17, 275130), params={'x': 2.2019338581979637}, distributions={'x': UniformDistribution(high=10.0, low=-10.0)}, user_attrs={}, system_attrs={}, intermediate_values={}, trial_id=42, state=TrialState.COMPLETE, value=None),\n",
       " FrozenTrial(number=43, values=[2.6362064901541076], datetime_start=datetime.datetime(2021, 11, 29, 6, 30, 17, 276076), datetime_complete=datetime.datetime(2021, 11, 29, 6, 30, 17, 279997), params={'x': 3.62363988930862}, distributions={'x': UniformDistribution(high=10.0, low=-10.0)}, user_attrs={}, system_attrs={}, intermediate_values={}, trial_id=43, state=TrialState.COMPLETE, value=None),\n",
       " FrozenTrial(number=44, values=[3.122643126835633], datetime_start=datetime.datetime(2021, 11, 29, 6, 30, 17, 280802), datetime_complete=datetime.datetime(2021, 11, 29, 6, 30, 17, 284789), params={'x': 0.23289979717175258}, distributions={'x': UniformDistribution(high=10.0, low=-10.0)}, user_attrs={}, system_attrs={}, intermediate_values={}, trial_id=44, state=TrialState.COMPLETE, value=None),\n",
       " FrozenTrial(number=45, values=[31.71247394994443], datetime_start=datetime.datetime(2021, 11, 29, 6, 30, 17, 285734), datetime_complete=datetime.datetime(2021, 11, 29, 6, 30, 17, 289794), params={'x': 7.631382951810721}, distributions={'x': UniformDistribution(high=10.0, low=-10.0)}, user_attrs={}, system_attrs={}, intermediate_values={}, trial_id=45, state=TrialState.COMPLETE, value=None),\n",
       " FrozenTrial(number=46, values=[0.14148349614956446], datetime_start=datetime.datetime(2021, 11, 29, 6, 30, 17, 290601), datetime_complete=datetime.datetime(2021, 11, 29, 6, 30, 17, 294619), params={'x': 2.3761429198450563}, distributions={'x': UniformDistribution(high=10.0, low=-10.0)}, user_attrs={}, system_attrs={}, intermediate_values={}, trial_id=46, state=TrialState.COMPLETE, value=None),\n",
       " FrozenTrial(number=47, values=[12.23122188386749], datetime_start=datetime.datetime(2021, 11, 29, 6, 30, 17, 295602), datetime_complete=datetime.datetime(2021, 11, 29, 6, 30, 17, 298922), params={'x': 5.497316383152587}, distributions={'x': UniformDistribution(high=10.0, low=-10.0)}, user_attrs={}, system_attrs={}, intermediate_values={}, trial_id=47, state=TrialState.COMPLETE, value=None),\n",
       " FrozenTrial(number=48, values=[0.000595963737036759], datetime_start=datetime.datetime(2021, 11, 29, 6, 30, 17, 299747), datetime_complete=datetime.datetime(2021, 11, 29, 6, 30, 17, 303839), params={'x': 1.9755876314742555}, distributions={'x': UniformDistribution(high=10.0, low=-10.0)}, user_attrs={}, system_attrs={}, intermediate_values={}, trial_id=48, state=TrialState.COMPLETE, value=None),\n",
       " FrozenTrial(number=49, values=[2.245787315538197], datetime_start=datetime.datetime(2021, 11, 29, 6, 30, 17, 304610), datetime_complete=datetime.datetime(2021, 11, 29, 6, 30, 17, 308820), params={'x': 3.498595113944456}, distributions={'x': UniformDistribution(high=10.0, low=-10.0)}, user_attrs={}, system_attrs={}, intermediate_values={}, trial_id=49, state=TrialState.COMPLETE, value=None),\n",
       " FrozenTrial(number=50, values=[11.009803626157781], datetime_start=datetime.datetime(2021, 11, 29, 6, 30, 17, 309624), datetime_complete=datetime.datetime(2021, 11, 29, 6, 30, 17, 313750), params={'x': -1.3181024134522703}, distributions={'x': UniformDistribution(high=10.0, low=-10.0)}, user_attrs={}, system_attrs={}, intermediate_values={}, trial_id=50, state=TrialState.COMPLETE, value=None),\n",
       " FrozenTrial(number=51, values=[0.00997405675485074], datetime_start=datetime.datetime(2021, 11, 29, 6, 30, 17, 314572), datetime_complete=datetime.datetime(2021, 11, 29, 6, 30, 17, 318702), params={'x': 2.099870199533448}, distributions={'x': UniformDistribution(high=10.0, low=-10.0)}, user_attrs={}, system_attrs={}, intermediate_values={}, trial_id=51, state=TrialState.COMPLETE, value=None),\n",
       " FrozenTrial(number=52, values=[2.081716834960282], datetime_start=datetime.datetime(2021, 11, 29, 6, 30, 17, 319565), datetime_complete=datetime.datetime(2021, 11, 29, 6, 30, 17, 323744), params={'x': 0.557184407153748}, distributions={'x': UniformDistribution(high=10.0, low=-10.0)}, user_attrs={}, system_attrs={}, intermediate_values={}, trial_id=52, state=TrialState.COMPLETE, value=None),\n",
       " FrozenTrial(number=53, values=[0.003640347196052341], datetime_start=datetime.datetime(2021, 11, 29, 6, 30, 17, 324544), datetime_complete=datetime.datetime(2021, 11, 29, 6, 30, 17, 328560), params={'x': 2.060335289806649}, distributions={'x': UniformDistribution(high=10.0, low=-10.0)}, user_attrs={}, system_attrs={}, intermediate_values={}, trial_id=53, state=TrialState.COMPLETE, value=None),\n",
       " FrozenTrial(number=54, values=[4.357259633701227], datetime_start=datetime.datetime(2021, 11, 29, 6, 30, 17, 329378), datetime_complete=datetime.datetime(2021, 11, 29, 6, 30, 17, 333564), params={'x': -0.08740499992244599}, distributions={'x': UniformDistribution(high=10.0, low=-10.0)}, user_attrs={}, system_attrs={}, intermediate_values={}, trial_id=54, state=TrialState.COMPLETE, value=None),\n",
       " FrozenTrial(number=55, values=[0.09571852493478479], datetime_start=datetime.datetime(2021, 11, 29, 6, 30, 17, 334478), datetime_complete=datetime.datetime(2021, 11, 29, 6, 30, 17, 338495), params={'x': 2.309384105821202}, distributions={'x': UniformDistribution(high=10.0, low=-10.0)}, user_attrs={}, system_attrs={}, intermediate_values={}, trial_id=55, state=TrialState.COMPLETE, value=None),\n",
       " FrozenTrial(number=56, values=[8.730739692601775], datetime_start=datetime.datetime(2021, 11, 29, 6, 30, 17, 339322), datetime_complete=datetime.datetime(2021, 11, 29, 6, 30, 17, 342657), params={'x': 4.954782511895211}, distributions={'x': UniformDistribution(high=10.0, low=-10.0)}, user_attrs={}, system_attrs={}, intermediate_values={}, trial_id=56, state=TrialState.COMPLETE, value=None),\n",
       " FrozenTrial(number=57, values=[1.7931763268766445], datetime_start=datetime.datetime(2021, 11, 29, 6, 30, 17, 343502), datetime_complete=datetime.datetime(2021, 11, 29, 6, 30, 17, 346942), params={'x': 3.3390953389795084}, distributions={'x': UniformDistribution(high=10.0, low=-10.0)}, user_attrs={}, system_attrs={}, intermediate_values={}, trial_id=57, state=TrialState.COMPLETE, value=None),\n",
       " FrozenTrial(number=58, values=[63.92486499526696], datetime_start=datetime.datetime(2021, 11, 29, 6, 30, 17, 348053), datetime_complete=datetime.datetime(2021, 11, 29, 6, 30, 17, 351153), params={'x': 9.995302683155089}, distributions={'x': UniformDistribution(high=10.0, low=-10.0)}, user_attrs={}, system_attrs={}, intermediate_values={}, trial_id=58, state=TrialState.COMPLETE, value=None),\n",
       " FrozenTrial(number=59, values=[18.094685004849584], datetime_start=datetime.datetime(2021, 11, 29, 6, 30, 17, 352150), datetime_complete=datetime.datetime(2021, 11, 29, 6, 30, 17, 356180), params={'x': -2.253784785911199}, distributions={'x': UniformDistribution(high=10.0, low=-10.0)}, user_attrs={}, system_attrs={}, intermediate_values={}, trial_id=59, state=TrialState.COMPLETE, value=None),\n",
       " FrozenTrial(number=60, values=[0.026805709691879686], datetime_start=datetime.datetime(2021, 11, 29, 6, 30, 17, 357231), datetime_complete=datetime.datetime(2021, 11, 29, 6, 30, 17, 361205), params={'x': 2.163724493255834}, distributions={'x': UniformDistribution(high=10.0, low=-10.0)}, user_attrs={}, system_attrs={}, intermediate_values={}, trial_id=60, state=TrialState.COMPLETE, value=None),\n",
       " FrozenTrial(number=61, values=[0.11847326418524981], datetime_start=datetime.datetime(2021, 11, 29, 6, 30, 17, 362016), datetime_complete=datetime.datetime(2021, 11, 29, 6, 30, 17, 365449), params={'x': 2.344199454074596}, distributions={'x': UniformDistribution(high=10.0, low=-10.0)}, user_attrs={}, system_attrs={}, intermediate_values={}, trial_id=61, state=TrialState.COMPLETE, value=None),\n",
       " FrozenTrial(number=62, values=[1.4748076815970572], datetime_start=datetime.datetime(2021, 11, 29, 6, 30, 17, 366275), datetime_complete=datetime.datetime(2021, 11, 29, 6, 30, 17, 370389), params={'x': 0.7855833986654097}, distributions={'x': UniformDistribution(high=10.0, low=-10.0)}, user_attrs={}, system_attrs={}, intermediate_values={}, trial_id=62, state=TrialState.COMPLETE, value=None),\n",
       " FrozenTrial(number=63, values=[5.4630300995301955], datetime_start=datetime.datetime(2021, 11, 29, 6, 30, 17, 371357), datetime_complete=datetime.datetime(2021, 11, 29, 6, 30, 17, 375527), params={'x': 4.337312580621213}, distributions={'x': UniformDistribution(high=10.0, low=-10.0)}, user_attrs={}, system_attrs={}, intermediate_values={}, trial_id=63, state=TrialState.COMPLETE, value=None),\n",
       " FrozenTrial(number=64, values=[72.93604117772544], datetime_start=datetime.datetime(2021, 11, 29, 6, 30, 17, 376371), datetime_complete=datetime.datetime(2021, 11, 29, 6, 30, 17, 380692), params={'x': -6.540260018156674}, distributions={'x': UniformDistribution(high=10.0, low=-10.0)}, user_attrs={}, system_attrs={}, intermediate_values={}, trial_id=64, state=TrialState.COMPLETE, value=None),\n",
       " FrozenTrial(number=65, values=[1.1804771719837854], datetime_start=datetime.datetime(2021, 11, 29, 6, 30, 17, 381657), datetime_complete=datetime.datetime(2021, 11, 29, 6, 30, 17, 385693), params={'x': 3.0864976631285432}, distributions={'x': UniformDistribution(high=10.0, low=-10.0)}, user_attrs={}, system_attrs={}, intermediate_values={}, trial_id=65, state=TrialState.COMPLETE, value=None),\n",
       " FrozenTrial(number=66, values=[1.2190774845204193], datetime_start=datetime.datetime(2021, 11, 29, 6, 30, 17, 386542), datetime_complete=datetime.datetime(2021, 11, 29, 6, 30, 17, 390821), params={'x': 0.8958815803907538}, distributions={'x': UniformDistribution(high=10.0, low=-10.0)}, user_attrs={}, system_attrs={}, intermediate_values={}, trial_id=66, state=TrialState.COMPLETE, value=None),\n",
       " FrozenTrial(number=67, values=[0.11593282672026492], datetime_start=datetime.datetime(2021, 11, 29, 6, 30, 17, 391616), datetime_complete=datetime.datetime(2021, 11, 29, 6, 30, 17, 395831), params={'x': 2.3404890992678986}, distributions={'x': UniformDistribution(high=10.0, low=-10.0)}, user_attrs={}, system_attrs={}, intermediate_values={}, trial_id=67, state=TrialState.COMPLETE, value=None),\n",
       " FrozenTrial(number=68, values=[3.0629626961560668], datetime_start=datetime.datetime(2021, 11, 29, 6, 30, 17, 396902), datetime_complete=datetime.datetime(2021, 11, 29, 6, 30, 17, 400796), params={'x': 3.7501321939088106}, distributions={'x': UniformDistribution(high=10.0, low=-10.0)}, user_attrs={}, system_attrs={}, intermediate_values={}, trial_id=68, state=TrialState.COMPLETE, value=None),\n",
       " FrozenTrial(number=69, values=[0.04860606946683014], datetime_start=datetime.datetime(2021, 11, 29, 6, 30, 17, 401612), datetime_complete=datetime.datetime(2021, 11, 29, 6, 30, 17, 405892), params={'x': 1.7795321577489585}, distributions={'x': UniformDistribution(high=10.0, low=-10.0)}, user_attrs={}, system_attrs={}, intermediate_values={}, trial_id=69, state=TrialState.COMPLETE, value=None),\n",
       " FrozenTrial(number=70, values=[4.349839978322759], datetime_start=datetime.datetime(2021, 11, 29, 6, 30, 17, 406945), datetime_complete=datetime.datetime(2021, 11, 29, 6, 30, 17, 411032), params={'x': -0.0856269988477707}, distributions={'x': UniformDistribution(high=10.0, low=-10.0)}, user_attrs={}, system_attrs={}, intermediate_values={}, trial_id=70, state=TrialState.COMPLETE, value=None),\n",
       " FrozenTrial(number=71, values=[0.00401472192989228], datetime_start=datetime.datetime(2021, 11, 29, 6, 30, 17, 412018), datetime_complete=datetime.datetime(2021, 11, 29, 6, 30, 17, 416194), params={'x': 1.936638166615128}, distributions={'x': UniformDistribution(high=10.0, low=-10.0)}, user_attrs={}, system_attrs={}, intermediate_values={}, trial_id=71, state=TrialState.COMPLETE, value=None),\n",
       " FrozenTrial(number=72, values=[0.5911125006881273], datetime_start=datetime.datetime(2021, 11, 29, 6, 30, 17, 417042), datetime_complete=datetime.datetime(2021, 11, 29, 6, 30, 17, 421138), params={'x': 1.2311615900020816}, distributions={'x': UniformDistribution(high=10.0, low=-10.0)}, user_attrs={}, system_attrs={}, intermediate_values={}, trial_id=72, state=TrialState.COMPLETE, value=None),\n",
       " FrozenTrial(number=73, values=[0.006105426621226661], datetime_start=datetime.datetime(2021, 11, 29, 6, 30, 17, 421928), datetime_complete=datetime.datetime(2021, 11, 29, 6, 30, 17, 426241), params={'x': 1.921862770581325}, distributions={'x': UniformDistribution(high=10.0, low=-10.0)}, user_attrs={}, system_attrs={}, intermediate_values={}, trial_id=73, state=TrialState.COMPLETE, value=None),\n",
       " FrozenTrial(number=74, values=[0.7342901743782647], datetime_start=datetime.datetime(2021, 11, 29, 6, 30, 17, 427216), datetime_complete=datetime.datetime(2021, 11, 29, 6, 30, 17, 430767), params={'x': 2.856907331266494}, distributions={'x': UniformDistribution(high=10.0, low=-10.0)}, user_attrs={}, system_attrs={}, intermediate_values={}, trial_id=74, state=TrialState.COMPLETE, value=None),\n",
       " FrozenTrial(number=75, values=[0.025819294386438308], datetime_start=datetime.datetime(2021, 11, 29, 6, 30, 17, 431571), datetime_complete=datetime.datetime(2021, 11, 29, 6, 30, 17, 435729), params={'x': 2.1606838336188128}, distributions={'x': UniformDistribution(high=10.0, low=-10.0)}, user_attrs={}, system_attrs={}, intermediate_values={}, trial_id=75, state=TrialState.COMPLETE, value=None),\n",
       " FrozenTrial(number=76, values=[2.532591517527154], datetime_start=datetime.datetime(2021, 11, 29, 6, 30, 17, 436506), datetime_complete=datetime.datetime(2021, 11, 29, 6, 30, 17, 440612), params={'x': 0.4085881998906902}, distributions={'x': UniformDistribution(high=10.0, low=-10.0)}, user_attrs={}, system_attrs={}, intermediate_values={}, trial_id=76, state=TrialState.COMPLETE, value=None),\n",
       " FrozenTrial(number=77, values=[0.9062066335106491], datetime_start=datetime.datetime(2021, 11, 29, 6, 30, 17, 441452), datetime_complete=datetime.datetime(2021, 11, 29, 6, 30, 17, 445890), params={'x': 2.9519488607644053}, distributions={'x': UniformDistribution(high=10.0, low=-10.0)}, user_attrs={}, system_attrs={}, intermediate_values={}, trial_id=77, state=TrialState.COMPLETE, value=None),\n",
       " FrozenTrial(number=78, values=[0.675183374780637], datetime_start=datetime.datetime(2021, 11, 29, 6, 30, 17, 446652), datetime_complete=datetime.datetime(2021, 11, 29, 6, 30, 17, 450709), params={'x': 1.178304572983008}, distributions={'x': UniformDistribution(high=10.0, low=-10.0)}, user_attrs={}, system_attrs={}, intermediate_values={}, trial_id=78, state=TrialState.COMPLETE, value=None),\n",
       " FrozenTrial(number=79, values=[9.190444927326839], datetime_start=datetime.datetime(2021, 11, 29, 6, 30, 17, 451546), datetime_complete=datetime.datetime(2021, 11, 29, 6, 30, 17, 455929), params={'x': 5.031574661347934}, distributions={'x': UniformDistribution(high=10.0, low=-10.0)}, user_attrs={}, system_attrs={}, intermediate_values={}, trial_id=79, state=TrialState.COMPLETE, value=None),\n",
       " FrozenTrial(number=80, values=[7.0890655457636145], datetime_start=datetime.datetime(2021, 11, 29, 6, 30, 17, 456776), datetime_complete=datetime.datetime(2021, 11, 29, 6, 30, 17, 460945), params={'x': -0.66252991452934}, distributions={'x': UniformDistribution(high=10.0, low=-10.0)}, user_attrs={}, system_attrs={}, intermediate_values={}, trial_id=80, state=TrialState.COMPLETE, value=None),\n",
       " FrozenTrial(number=81, values=[0.00717510911134968], datetime_start=datetime.datetime(2021, 11, 29, 6, 30, 17, 461782), datetime_complete=datetime.datetime(2021, 11, 29, 6, 30, 17, 465831), params={'x': 1.9152939842080288}, distributions={'x': UniformDistribution(high=10.0, low=-10.0)}, user_attrs={}, system_attrs={}, intermediate_values={}, trial_id=81, state=TrialState.COMPLETE, value=None),\n",
       " FrozenTrial(number=82, values=[0.0008951540767052459], datetime_start=datetime.datetime(2021, 11, 29, 6, 30, 17, 466677), datetime_complete=datetime.datetime(2021, 11, 29, 6, 30, 17, 471107), params={'x': 1.9700808743993872}, distributions={'x': UniformDistribution(high=10.0, low=-10.0)}, user_attrs={}, system_attrs={}, intermediate_values={}, trial_id=82, state=TrialState.COMPLETE, value=None),\n",
       " FrozenTrial(number=83, values=[0.005810867595740094], datetime_start=datetime.datetime(2021, 11, 29, 6, 30, 17, 472044), datetime_complete=datetime.datetime(2021, 11, 29, 6, 30, 17, 476188), params={'x': 2.076229046929239}, distributions={'x': UniformDistribution(high=10.0, low=-10.0)}, user_attrs={}, system_attrs={}, intermediate_values={}, trial_id=83, state=TrialState.COMPLETE, value=None),\n",
       " FrozenTrial(number=84, values=[3.7945368397939236], datetime_start=datetime.datetime(2021, 11, 29, 6, 30, 17, 477011), datetime_complete=datetime.datetime(2021, 11, 29, 6, 30, 17, 480514), params={'x': 3.9479570939304396}, distributions={'x': UniformDistribution(high=10.0, low=-10.0)}, user_attrs={}, system_attrs={}, intermediate_values={}, trial_id=84, state=TrialState.COMPLETE, value=None),\n",
       " FrozenTrial(number=85, values=[0.4309344299145328], datetime_start=datetime.datetime(2021, 11, 29, 6, 30, 17, 481338), datetime_complete=datetime.datetime(2021, 11, 29, 6, 30, 17, 485592), params={'x': 1.3435440380996355}, distributions={'x': UniformDistribution(high=10.0, low=-10.0)}, user_attrs={}, system_attrs={}, intermediate_values={}, trial_id=85, state=TrialState.COMPLETE, value=None),\n",
       " FrozenTrial(number=86, values=[1.7878964040231593], datetime_start=datetime.datetime(2021, 11, 29, 6, 30, 17, 486625), datetime_complete=datetime.datetime(2021, 11, 29, 6, 30, 17, 489838), params={'x': 3.3371224341933536}, distributions={'x': UniformDistribution(high=10.0, low=-10.0)}, user_attrs={}, system_attrs={}, intermediate_values={}, trial_id=86, state=TrialState.COMPLETE, value=None),\n",
       " FrozenTrial(number=87, values=[0.6538010934141226], datetime_start=datetime.datetime(2021, 11, 29, 6, 30, 17, 490812), datetime_complete=datetime.datetime(2021, 11, 29, 6, 30, 17, 494489), params={'x': 2.8085796766022026}, distributions={'x': UniformDistribution(high=10.0, low=-10.0)}, user_attrs={}, system_attrs={}, intermediate_values={}, trial_id=87, state=TrialState.COMPLETE, value=None),\n",
       " FrozenTrial(number=88, values=[1.5058179661864939], datetime_start=datetime.datetime(2021, 11, 29, 6, 30, 17, 495336), datetime_complete=datetime.datetime(2021, 11, 29, 6, 30, 17, 499591), params={'x': 0.7728822525175125}, distributions={'x': UniformDistribution(high=10.0, low=-10.0)}, user_attrs={}, system_attrs={}, intermediate_values={}, trial_id=88, state=TrialState.COMPLETE, value=None),\n",
       " FrozenTrial(number=89, values=[0.00020944111496273415], datetime_start=datetime.datetime(2021, 11, 29, 6, 30, 17, 500381), datetime_complete=datetime.datetime(2021, 11, 29, 6, 30, 17, 504011), params={'x': 2.0144720805333143}, distributions={'x': UniformDistribution(high=10.0, low=-10.0)}, user_attrs={}, system_attrs={}, intermediate_values={}, trial_id=89, state=TrialState.COMPLETE, value=None),\n",
       " FrozenTrial(number=90, values=[10.297935634593372], datetime_start=datetime.datetime(2021, 11, 29, 6, 30, 17, 505024), datetime_complete=datetime.datetime(2021, 11, 29, 6, 30, 17, 509179), params={'x': -1.2090396748238206}, distributions={'x': UniformDistribution(high=10.0, low=-10.0)}, user_attrs={}, system_attrs={}, intermediate_values={}, trial_id=90, state=TrialState.COMPLETE, value=None),\n",
       " FrozenTrial(number=91, values=[0.00019228063747025645], datetime_start=datetime.datetime(2021, 11, 29, 6, 30, 17, 510139), datetime_complete=datetime.datetime(2021, 11, 29, 6, 30, 17, 514270), params={'x': 1.9861334706047167}, distributions={'x': UniformDistribution(high=10.0, low=-10.0)}, user_attrs={}, system_attrs={}, intermediate_values={}, trial_id=91, state=TrialState.COMPLETE, value=None),\n",
       " FrozenTrial(number=92, values=[0.016561626813319606], datetime_start=datetime.datetime(2021, 11, 29, 6, 30, 17, 515114), datetime_complete=datetime.datetime(2021, 11, 29, 6, 30, 17, 519569), params={'x': 1.8713080157378883}, distributions={'x': UniformDistribution(high=10.0, low=-10.0)}, user_attrs={}, system_attrs={}, intermediate_values={}, trial_id=92, state=TrialState.COMPLETE, value=None),\n",
       " FrozenTrial(number=93, values=[0.5480224185724467], datetime_start=datetime.datetime(2021, 11, 29, 6, 30, 17, 520419), datetime_complete=datetime.datetime(2021, 11, 29, 6, 30, 17, 524818), params={'x': 1.259714637067268}, distributions={'x': UniformDistribution(high=10.0, low=-10.0)}, user_attrs={}, system_attrs={}, intermediate_values={}, trial_id=93, state=TrialState.COMPLETE, value=None),\n",
       " FrozenTrial(number=94, values=[2.6039451059476124], datetime_start=datetime.datetime(2021, 11, 29, 6, 30, 17, 525662), datetime_complete=datetime.datetime(2021, 11, 29, 6, 30, 17, 529977), params={'x': 0.38632558861844357}, distributions={'x': UniformDistribution(high=10.0, low=-10.0)}, user_attrs={}, system_attrs={}, intermediate_values={}, trial_id=94, state=TrialState.COMPLETE, value=None),\n",
       " FrozenTrial(number=95, values=[0.34982462335917475], datetime_start=datetime.datetime(2021, 11, 29, 6, 30, 17, 530750), datetime_complete=datetime.datetime(2021, 11, 29, 6, 30, 17, 534398), params={'x': 2.59145973942372}, distributions={'x': UniformDistribution(high=10.0, low=-10.0)}, user_attrs={}, system_attrs={}, intermediate_values={}, trial_id=95, state=TrialState.COMPLETE, value=None),\n",
       " FrozenTrial(number=96, values=[6.196451502684244], datetime_start=datetime.datetime(2021, 11, 29, 6, 30, 17, 535248), datetime_complete=datetime.datetime(2021, 11, 29, 6, 30, 17, 538835), params={'x': 4.4892672622047325}, distributions={'x': UniformDistribution(high=10.0, low=-10.0)}, user_attrs={}, system_attrs={}, intermediate_values={}, trial_id=96, state=TrialState.COMPLETE, value=None),\n",
       " FrozenTrial(number=97, values=[1.6623827248890326], datetime_start=datetime.datetime(2021, 11, 29, 6, 30, 17, 539664), datetime_complete=datetime.datetime(2021, 11, 29, 6, 30, 17, 543279), params={'x': 3.28933421768331}, distributions={'x': UniformDistribution(high=10.0, low=-10.0)}, user_attrs={}, system_attrs={}, intermediate_values={}, trial_id=97, state=TrialState.COMPLETE, value=None),\n",
       " FrozenTrial(number=98, values=[3.951939823148437], datetime_start=datetime.datetime(2021, 11, 29, 6, 30, 17, 544311), datetime_complete=datetime.datetime(2021, 11, 29, 6, 30, 17, 547828), params={'x': 0.01205135299011384}, distributions={'x': UniformDistribution(high=10.0, low=-10.0)}, user_attrs={}, system_attrs={}, intermediate_values={}, trial_id=98, state=TrialState.COMPLETE, value=None),\n",
       " FrozenTrial(number=99, values=[3.1150021767126663], datetime_start=datetime.datetime(2021, 11, 29, 6, 30, 17, 548671), datetime_complete=datetime.datetime(2021, 11, 29, 6, 30, 17, 552881), params={'x': 3.7649368761269244}, distributions={'x': UniformDistribution(high=10.0, low=-10.0)}, user_attrs={}, system_attrs={}, intermediate_values={}, trial_id=99, state=TrialState.COMPLETE, value=None)]"
      ]
     },
     "execution_count": 9,
     "metadata": {},
     "output_type": "execute_result"
    }
   ],
   "source": [
    "study.trials"
   ]
  },
  {
   "cell_type": "markdown",
   "metadata": {},
   "source": [
    "To get the number of trials:\n",
    "\n"
   ]
  },
  {
   "cell_type": "code",
   "execution_count": 10,
   "metadata": {
    "collapsed": false,
    "jupyter": {
     "outputs_hidden": false
    }
   },
   "outputs": [
    {
     "data": {
      "text/plain": [
       "100"
      ]
     },
     "execution_count": 10,
     "metadata": {},
     "output_type": "execute_result"
    }
   ],
   "source": [
    "len(study.trials)"
   ]
  },
  {
   "cell_type": "markdown",
   "metadata": {},
   "source": [
    "By executing :func:`~optuna.study.Study.optimize` again, we can continue the optimization.\n",
    "\n"
   ]
  },
  {
   "cell_type": "code",
   "execution_count": 11,
   "metadata": {
    "collapsed": true,
    "jupyter": {
     "outputs_hidden": true
    },
    "tags": []
   },
   "outputs": [
    {
     "name": "stderr",
     "output_type": "stream",
     "text": [
      "\u001b[32m[I 2021-11-29 06:35:35,624]\u001b[0m Trial 100 finished with value: 0.001453197915079823 and parameters: {'x': 1.9618791669151916}. Best is trial 91 with value: 0.00019228063747025645.\u001b[0m\n",
      "\u001b[32m[I 2021-11-29 06:35:35,630]\u001b[0m Trial 101 finished with value: 0.028998689126457342 and parameters: {'x': 1.8297099852414789}. Best is trial 91 with value: 0.00019228063747025645.\u001b[0m\n",
      "\u001b[32m[I 2021-11-29 06:35:35,636]\u001b[0m Trial 102 finished with value: 0.3889944470079005 and parameters: {'x': 2.623694193501832}. Best is trial 91 with value: 0.00019228063747025645.\u001b[0m\n",
      "\u001b[32m[I 2021-11-29 06:35:35,641]\u001b[0m Trial 103 finished with value: 0.25893301902668536 and parameters: {'x': 1.4911453851769787}. Best is trial 91 with value: 0.00019228063747025645.\u001b[0m\n",
      "\u001b[32m[I 2021-11-29 06:35:35,646]\u001b[0m Trial 104 finished with value: 0.8472994611966301 and parameters: {'x': 1.0795112921949395}. Best is trial 91 with value: 0.00019228063747025645.\u001b[0m\n",
      "\u001b[32m[I 2021-11-29 06:35:35,652]\u001b[0m Trial 105 finished with value: 1.727717906269158 and parameters: {'x': 0.6855731643529344}. Best is trial 91 with value: 0.00019228063747025645.\u001b[0m\n",
      "\u001b[32m[I 2021-11-29 06:35:35,656]\u001b[0m Trial 106 finished with value: 0.007642570247949774 and parameters: {'x': 2.0874217950396226}. Best is trial 91 with value: 0.00019228063747025645.\u001b[0m\n",
      "\u001b[32m[I 2021-11-29 06:35:35,661]\u001b[0m Trial 107 finished with value: 5.302813955037542 and parameters: {'x': -0.30278395752566034}. Best is trial 91 with value: 0.00019228063747025645.\u001b[0m\n",
      "\u001b[32m[I 2021-11-29 06:35:35,666]\u001b[0m Trial 108 finished with value: 1.4069142433824773 and parameters: {'x': 3.1861341590994154}. Best is trial 91 with value: 0.00019228063747025645.\u001b[0m\n",
      "\u001b[32m[I 2021-11-29 06:35:35,670]\u001b[0m Trial 109 finished with value: 0.0032284469567301364 and parameters: {'x': 1.943180575885265}. Best is trial 91 with value: 0.00019228063747025645.\u001b[0m\n",
      "\u001b[32m[I 2021-11-29 06:35:35,675]\u001b[0m Trial 110 finished with value: 0.2801198091620936 and parameters: {'x': 2.5292634591222916}. Best is trial 91 with value: 0.00019228063747025645.\u001b[0m\n",
      "\u001b[32m[I 2021-11-29 06:35:35,679]\u001b[0m Trial 111 finished with value: 0.0014369191890059958 and parameters: {'x': 1.9620932830621538}. Best is trial 91 with value: 0.00019228063747025645.\u001b[0m\n",
      "\u001b[32m[I 2021-11-29 06:35:35,683]\u001b[0m Trial 112 finished with value: 0.09647501508899214 and parameters: {'x': 1.6893957259003152}. Best is trial 91 with value: 0.00019228063747025645.\u001b[0m\n",
      "\u001b[32m[I 2021-11-29 06:35:35,688]\u001b[0m Trial 113 finished with value: 0.27938197979667717 and parameters: {'x': 1.4714340345834995}. Best is trial 91 with value: 0.00019228063747025645.\u001b[0m\n",
      "\u001b[32m[I 2021-11-29 06:35:35,693]\u001b[0m Trial 114 finished with value: 1.07775112528769 and parameters: {'x': 0.961852069651107}. Best is trial 91 with value: 0.00019228063747025645.\u001b[0m\n",
      "\u001b[32m[I 2021-11-29 06:35:35,697]\u001b[0m Trial 115 finished with value: 0.7869379927304709 and parameters: {'x': 2.8870952557253764}. Best is trial 91 with value: 0.00019228063747025645.\u001b[0m\n",
      "\u001b[32m[I 2021-11-29 06:35:35,702]\u001b[0m Trial 116 finished with value: 0.004942378705853441 and parameters: {'x': 2.0703020533544607}. Best is trial 91 with value: 0.00019228063747025645.\u001b[0m\n",
      "\u001b[32m[I 2021-11-29 06:35:35,707]\u001b[0m Trial 117 finished with value: 2.6846756261073823 and parameters: {'x': 3.6384979786705207}. Best is trial 91 with value: 0.00019228063747025645.\u001b[0m\n",
      "\u001b[32m[I 2021-11-29 06:35:35,712]\u001b[0m Trial 118 finished with value: 3.224497706664346 and parameters: {'x': 0.20431135586807647}. Best is trial 91 with value: 0.00019228063747025645.\u001b[0m\n",
      "\u001b[32m[I 2021-11-29 06:35:35,717]\u001b[0m Trial 119 finished with value: 0.28301094467998467 and parameters: {'x': 2.5319877298208904}. Best is trial 91 with value: 0.00019228063747025645.\u001b[0m\n",
      "\u001b[32m[I 2021-11-29 06:35:35,721]\u001b[0m Trial 120 finished with value: 4.889720045460879 and parameters: {'x': 4.211271137934215}. Best is trial 91 with value: 0.00019228063747025645.\u001b[0m\n",
      "\u001b[32m[I 2021-11-29 06:35:35,727]\u001b[0m Trial 121 finished with value: 0.00021158837152240523 and parameters: {'x': 1.9854539224695313}. Best is trial 91 with value: 0.00019228063747025645.\u001b[0m\n",
      "\u001b[32m[I 2021-11-29 06:35:35,731]\u001b[0m Trial 122 finished with value: 0.31862207867670544 and parameters: {'x': 1.4355338108648974}. Best is trial 91 with value: 0.00019228063747025645.\u001b[0m\n",
      "\u001b[32m[I 2021-11-29 06:35:35,736]\u001b[0m Trial 123 finished with value: 0.018569736847562517 and parameters: {'x': 2.136270821702823}. Best is trial 91 with value: 0.00019228063747025645.\u001b[0m\n",
      "\u001b[32m[I 2021-11-29 06:35:35,741]\u001b[0m Trial 124 finished with value: 1.0614532688310911 and parameters: {'x': 3.0302685420952593}. Best is trial 91 with value: 0.00019228063747025645.\u001b[0m\n",
      "\u001b[32m[I 2021-11-29 06:35:35,746]\u001b[0m Trial 125 finished with value: 1.2687825604109366 and parameters: {'x': 0.8735975140248773}. Best is trial 91 with value: 0.00019228063747025645.\u001b[0m\n",
      "\u001b[32m[I 2021-11-29 06:35:35,752]\u001b[0m Trial 126 finished with value: 0.05711956915422455 and parameters: {'x': 2.23899700658005}. Best is trial 91 with value: 0.00019228063747025645.\u001b[0m\n",
      "\u001b[32m[I 2021-11-29 06:35:35,756]\u001b[0m Trial 127 finished with value: 2.0484480078551393 and parameters: {'x': 0.5687599754565487}. Best is trial 91 with value: 0.00019228063747025645.\u001b[0m\n",
      "\u001b[32m[I 2021-11-29 06:35:35,761]\u001b[0m Trial 128 finished with value: 0.2018332048987987 and parameters: {'x': 1.5507414943500806}. Best is trial 91 with value: 0.00019228063747025645.\u001b[0m\n",
      "\u001b[32m[I 2021-11-29 06:35:35,766]\u001b[0m Trial 129 finished with value: 0.48508503860048596 and parameters: {'x': 2.696480465340189}. Best is trial 91 with value: 0.00019228063747025645.\u001b[0m\n",
      "\u001b[32m[I 2021-11-29 06:35:35,770]\u001b[0m Trial 130 finished with value: 1.9301444125368485 and parameters: {'x': 3.3892963731820682}. Best is trial 91 with value: 0.00019228063747025645.\u001b[0m\n",
      "\u001b[32m[I 2021-11-29 06:35:35,775]\u001b[0m Trial 131 finished with value: 0.007631395237692101 and parameters: {'x': 1.9126421426676907}. Best is trial 91 with value: 0.00019228063747025645.\u001b[0m\n",
      "\u001b[32m[I 2021-11-29 06:35:35,780]\u001b[0m Trial 132 finished with value: 0.006777617536741238 and parameters: {'x': 1.9176737129663846}. Best is trial 91 with value: 0.00019228063747025645.\u001b[0m\n",
      "\u001b[32m[I 2021-11-29 06:35:35,785]\u001b[0m Trial 133 finished with value: 0.690206224517234 and parameters: {'x': 1.1692134904096998}. Best is trial 91 with value: 0.00019228063747025645.\u001b[0m\n",
      "\u001b[32m[I 2021-11-29 06:35:35,790]\u001b[0m Trial 134 finished with value: 0.11185172386080215 and parameters: {'x': 2.334442407389975}. Best is trial 91 with value: 0.00019228063747025645.\u001b[0m\n",
      "\u001b[32m[I 2021-11-29 06:35:35,795]\u001b[0m Trial 135 finished with value: 0.0027663771695461132 and parameters: {'x': 1.947403639198647}. Best is trial 91 with value: 0.00019228063747025645.\u001b[0m\n",
      "\u001b[32m[I 2021-11-29 06:35:35,800]\u001b[0m Trial 136 finished with value: 0.923120321781908 and parameters: {'x': 2.9607915079672114}. Best is trial 91 with value: 0.00019228063747025645.\u001b[0m\n",
      "\u001b[32m[I 2021-11-29 06:35:35,805]\u001b[0m Trial 137 finished with value: 0.2826551593510902 and parameters: {'x': 1.4683467677601403}. Best is trial 91 with value: 0.00019228063747025645.\u001b[0m\n",
      "\u001b[32m[I 2021-11-29 06:35:35,809]\u001b[0m Trial 138 finished with value: 0.29355249305238695 and parameters: {'x': 2.541804847756447}. Best is trial 91 with value: 0.00019228063747025645.\u001b[0m\n",
      "\u001b[32m[I 2021-11-29 06:35:35,815]\u001b[0m Trial 139 finished with value: 100.1598001247107 and parameters: {'x': -8.007986816773426}. Best is trial 91 with value: 0.00019228063747025645.\u001b[0m\n",
      "\u001b[32m[I 2021-11-29 06:35:35,820]\u001b[0m Trial 140 finished with value: 0.8812787459102687 and parameters: {'x': 1.0612355215975262}. Best is trial 91 with value: 0.00019228063747025645.\u001b[0m\n",
      "\u001b[32m[I 2021-11-29 06:35:35,825]\u001b[0m Trial 141 finished with value: 0.00010243131616617267 and parameters: {'x': 1.9898791642555482}. Best is trial 141 with value: 0.00010243131616617267.\u001b[0m\n",
      "\u001b[32m[I 2021-11-29 06:35:35,830]\u001b[0m Trial 142 finished with value: 0.0003187934558465758 and parameters: {'x': 2.0178547880370106}. Best is trial 141 with value: 0.00010243131616617267.\u001b[0m\n",
      "\u001b[32m[I 2021-11-29 06:35:35,835]\u001b[0m Trial 143 finished with value: 0.14405932777188588 and parameters: {'x': 2.3795514823734534}. Best is trial 141 with value: 0.00010243131616617267.\u001b[0m\n",
      "\u001b[32m[I 2021-11-29 06:35:35,840]\u001b[0m Trial 144 finished with value: 0.1189498621211051 and parameters: {'x': 1.655108912667919}. Best is trial 141 with value: 0.00010243131616617267.\u001b[0m\n",
      "\u001b[32m[I 2021-11-29 06:35:35,845]\u001b[0m Trial 145 finished with value: 2.022311076980667 and parameters: {'x': 0.5779201580147946}. Best is trial 141 with value: 0.00010243131616617267.\u001b[0m\n",
      "\u001b[32m[I 2021-11-29 06:35:35,851]\u001b[0m Trial 146 finished with value: 0.006649197465850979 and parameters: {'x': 2.0815426113504527}. Best is trial 141 with value: 0.00010243131616617267.\u001b[0m\n",
      "\u001b[32m[I 2021-11-29 06:35:35,857]\u001b[0m Trial 147 finished with value: 1.3395845382968468 and parameters: {'x': 3.1574042242435643}. Best is trial 141 with value: 0.00010243131616617267.\u001b[0m\n",
      "\u001b[32m[I 2021-11-29 06:35:35,861]\u001b[0m Trial 148 finished with value: 0.5791268471034332 and parameters: {'x': 1.238996158286022}. Best is trial 141 with value: 0.00010243131616617267.\u001b[0m\n",
      "\u001b[32m[I 2021-11-29 06:35:35,867]\u001b[0m Trial 149 finished with value: 0.2990797988615995 and parameters: {'x': 2.546881887487234}. Best is trial 141 with value: 0.00010243131616617267.\u001b[0m\n",
      "\u001b[32m[I 2021-11-29 06:35:35,872]\u001b[0m Trial 150 finished with value: 3.410628116337452 and parameters: {'x': 3.846788595464422}. Best is trial 141 with value: 0.00010243131616617267.\u001b[0m\n",
      "\u001b[32m[I 2021-11-29 06:35:35,877]\u001b[0m Trial 151 finished with value: 0.02765487695081214 and parameters: {'x': 1.8337024445434866}. Best is trial 141 with value: 0.00010243131616617267.\u001b[0m\n",
      "\u001b[32m[I 2021-11-29 06:35:35,883]\u001b[0m Trial 152 finished with value: 0.015336858048976424 and parameters: {'x': 2.1238420689789073}. Best is trial 141 with value: 0.00010243131616617267.\u001b[0m\n",
      "\u001b[32m[I 2021-11-29 06:35:35,888]\u001b[0m Trial 153 finished with value: 0.20571717871538825 and parameters: {'x': 1.5464394431661983}. Best is trial 141 with value: 0.00010243131616617267.\u001b[0m\n",
      "\u001b[32m[I 2021-11-29 06:35:35,894]\u001b[0m Trial 154 finished with value: 0.6119117281337276 and parameters: {'x': 2.7822478687307033}. Best is trial 141 with value: 0.00010243131616617267.\u001b[0m\n",
      "\u001b[32m[I 2021-11-29 06:35:35,899]\u001b[0m Trial 155 finished with value: 1.298233967501686 and parameters: {'x': 0.8605992945843477}. Best is trial 141 with value: 0.00010243131616617267.\u001b[0m\n",
      "\u001b[32m[I 2021-11-29 06:35:35,905]\u001b[0m Trial 156 finished with value: 0.0010441989274611162 and parameters: {'x': 1.9676859329786374}. Best is trial 141 with value: 0.00010243131616617267.\u001b[0m\n",
      "\u001b[32m[I 2021-11-29 06:35:35,910]\u001b[0m Trial 157 finished with value: 1.8847261281520025 and parameters: {'x': 3.3728532799072166}. Best is trial 141 with value: 0.00010243131616617267.\u001b[0m\n",
      "\u001b[32m[I 2021-11-29 06:35:35,915]\u001b[0m Trial 158 finished with value: 0.4190513231202646 and parameters: {'x': 1.3526582640364793}. Best is trial 141 with value: 0.00010243131616617267.\u001b[0m\n",
      "\u001b[32m[I 2021-11-29 06:35:35,921]\u001b[0m Trial 159 finished with value: 0.09570607527308979 and parameters: {'x': 2.309363985093756}. Best is trial 141 with value: 0.00010243131616617267.\u001b[0m\n",
      "\u001b[32m[I 2021-11-29 06:35:35,926]\u001b[0m Trial 160 finished with value: 2.85847040376623 and parameters: {'x': 0.3092988425608061}. Best is trial 141 with value: 0.00010243131616617267.\u001b[0m\n",
      "\u001b[32m[I 2021-11-29 06:35:35,931]\u001b[0m Trial 161 finished with value: 0.018858410209912534 and parameters: {'x': 1.8626740730600644}. Best is trial 141 with value: 0.00010243131616617267.\u001b[0m\n",
      "\u001b[32m[I 2021-11-29 06:35:35,937]\u001b[0m Trial 162 finished with value: 0.00015939487352985022 and parameters: {'x': 1.9873748317425133}. Best is trial 141 with value: 0.00010243131616617267.\u001b[0m\n",
      "\u001b[32m[I 2021-11-29 06:35:35,942]\u001b[0m Trial 163 finished with value: 0.2513330449710208 and parameters: {'x': 2.5013312726840615}. Best is trial 141 with value: 0.00010243131616617267.\u001b[0m\n",
      "\u001b[32m[I 2021-11-29 06:35:35,948]\u001b[0m Trial 164 finished with value: 0.6736713767840218 and parameters: {'x': 2.8207748636404637}. Best is trial 141 with value: 0.00010243131616617267.\u001b[0m\n",
      "\u001b[32m[I 2021-11-29 06:35:35,953]\u001b[0m Trial 165 finished with value: 44.425380536663226 and parameters: {'x': -4.665236720227064}. Best is trial 141 with value: 0.00010243131616617267.\u001b[0m\n",
      "\u001b[32m[I 2021-11-29 06:35:35,959]\u001b[0m Trial 166 finished with value: 0.15679546207117895 and parameters: {'x': 1.6040259325774238}. Best is trial 141 with value: 0.00010243131616617267.\u001b[0m\n",
      "\u001b[32m[I 2021-11-29 06:35:35,964]\u001b[0m Trial 167 finished with value: 0.8309549055281107 and parameters: {'x': 1.088432720240513}. Best is trial 141 with value: 0.00010243131616617267.\u001b[0m\n",
      "\u001b[32m[I 2021-11-29 06:35:35,969]\u001b[0m Trial 168 finished with value: 1.5200460075703141e-05 and parameters: {'x': 1.996101223259059}. Best is trial 168 with value: 1.5200460075703141e-05.\u001b[0m\n",
      "\u001b[32m[I 2021-11-29 06:35:35,975]\u001b[0m Trial 169 finished with value: 0.005570296125139517 and parameters: {'x': 2.074634416492256}. Best is trial 168 with value: 1.5200460075703141e-05.\u001b[0m\n",
      "\u001b[32m[I 2021-11-29 06:35:35,980]\u001b[0m Trial 170 finished with value: 0.9435437691633903 and parameters: {'x': 2.9713618116661733}. Best is trial 168 with value: 1.5200460075703141e-05.\u001b[0m\n",
      "\u001b[32m[I 2021-11-29 06:35:35,985]\u001b[0m Trial 171 finished with value: 43.054640741068255 and parameters: {'x': 8.561603519039249}. Best is trial 168 with value: 1.5200460075703141e-05.\u001b[0m\n",
      "\u001b[32m[I 2021-11-29 06:35:35,991]\u001b[0m Trial 172 finished with value: 0.012730778655566377 and parameters: {'x': 2.1128307522600394}. Best is trial 168 with value: 1.5200460075703141e-05.\u001b[0m\n",
      "\u001b[32m[I 2021-11-29 06:35:35,996]\u001b[0m Trial 173 finished with value: 0.11530860777539209 and parameters: {'x': 1.6604287883589186}. Best is trial 168 with value: 1.5200460075703141e-05.\u001b[0m\n",
      "\u001b[32m[I 2021-11-29 06:35:36,001]\u001b[0m Trial 174 finished with value: 0.06738068969226392 and parameters: {'x': 2.2595779067876616}. Best is trial 168 with value: 1.5200460075703141e-05.\u001b[0m\n",
      "\u001b[32m[I 2021-11-29 06:35:36,007]\u001b[0m Trial 175 finished with value: 0.562222716044384 and parameters: {'x': 1.2501848787571805}. Best is trial 168 with value: 1.5200460075703141e-05.\u001b[0m\n",
      "\u001b[32m[I 2021-11-29 06:35:36,012]\u001b[0m Trial 176 finished with value: 0.43486438639903374 and parameters: {'x': 2.6594424814940525}. Best is trial 168 with value: 1.5200460075703141e-05.\u001b[0m\n",
      "\u001b[32m[I 2021-11-29 06:35:36,018]\u001b[0m Trial 177 finished with value: 0.02574761166444072 and parameters: {'x': 1.8395393765921348}. Best is trial 168 with value: 1.5200460075703141e-05.\u001b[0m\n",
      "\u001b[32m[I 2021-11-29 06:35:36,024]\u001b[0m Trial 178 finished with value: 1.3145028268859318 and parameters: {'x': 0.8534823041549111}. Best is trial 168 with value: 1.5200460075703141e-05.\u001b[0m\n",
      "\u001b[32m[I 2021-11-29 06:35:36,029]\u001b[0m Trial 179 finished with value: 0.14781660754454162 and parameters: {'x': 2.3844692543553276}. Best is trial 168 with value: 1.5200460075703141e-05.\u001b[0m\n",
      "\u001b[32m[I 2021-11-29 06:35:36,035]\u001b[0m Trial 180 finished with value: 0.43627708674866994 and parameters: {'x': 1.3394872546659906}. Best is trial 168 with value: 1.5200460075703141e-05.\u001b[0m\n",
      "\u001b[32m[I 2021-11-29 06:35:36,039]\u001b[0m Trial 181 finished with value: 1.573641562682165e-05 and parameters: {'x': 1.9960330848727479}. Best is trial 168 with value: 1.5200460075703141e-05.\u001b[0m\n",
      "\u001b[32m[I 2021-11-29 06:35:36,045]\u001b[0m Trial 182 finished with value: 0.011436300979290655 and parameters: {'x': 1.8930593576824477}. Best is trial 168 with value: 1.5200460075703141e-05.\u001b[0m\n",
      "\u001b[32m[I 2021-11-29 06:35:36,050]\u001b[0m Trial 183 finished with value: 0.01067039139937524 and parameters: {'x': 2.103297586609636}. Best is trial 168 with value: 1.5200460075703141e-05.\u001b[0m\n",
      "\u001b[32m[I 2021-11-29 06:35:36,055]\u001b[0m Trial 184 finished with value: 0.12201795081339258 and parameters: {'x': 1.6506893204990827}. Best is trial 168 with value: 1.5200460075703141e-05.\u001b[0m\n",
      "\u001b[32m[I 2021-11-29 06:35:36,061]\u001b[0m Trial 185 finished with value: 1.127419420725072 and parameters: {'x': 3.0618000851031573}. Best is trial 168 with value: 1.5200460075703141e-05.\u001b[0m\n",
      "\u001b[32m[I 2021-11-29 06:35:36,066]\u001b[0m Trial 186 finished with value: 0.3498432477775458 and parameters: {'x': 2.5914754836656764}. Best is trial 168 with value: 1.5200460075703141e-05.\u001b[0m\n",
      "\u001b[32m[I 2021-11-29 06:35:36,071]\u001b[0m Trial 187 finished with value: 0.29050273278406874 and parameters: {'x': 1.4610169457357043}. Best is trial 168 with value: 1.5200460075703141e-05.\u001b[0m\n",
      "\u001b[32m[I 2021-11-29 06:35:36,076]\u001b[0m Trial 188 finished with value: 0.04228354050697251 and parameters: {'x': 2.2056296197218983}. Best is trial 168 with value: 1.5200460075703141e-05.\u001b[0m\n",
      "\u001b[32m[I 2021-11-29 06:35:36,082]\u001b[0m Trial 189 finished with value: 0.9961407131476454 and parameters: {'x': 1.0019315087892788}. Best is trial 168 with value: 1.5200460075703141e-05.\u001b[0m\n",
      "\u001b[32m[I 2021-11-29 06:35:36,087]\u001b[0m Trial 190 finished with value: 2.426166701835867 and parameters: {'x': 3.5576157105768633}. Best is trial 168 with value: 1.5200460075703141e-05.\u001b[0m\n",
      "\u001b[32m[I 2021-11-29 06:35:36,093]\u001b[0m Trial 191 finished with value: 0.005152284721921434 and parameters: {'x': 1.928220582881153}. Best is trial 168 with value: 1.5200460075703141e-05.\u001b[0m\n",
      "\u001b[32m[I 2021-11-29 06:35:36,099]\u001b[0m Trial 192 finished with value: 0.01562655589515417 and parameters: {'x': 1.8749937765743074}. Best is trial 168 with value: 1.5200460075703141e-05.\u001b[0m\n",
      "\u001b[32m[I 2021-11-29 06:35:36,104]\u001b[0m Trial 193 finished with value: 0.3716183907601909 and parameters: {'x': 2.609605110510231}. Best is trial 168 with value: 1.5200460075703141e-05.\u001b[0m\n",
      "\u001b[32m[I 2021-11-29 06:35:36,109]\u001b[0m Trial 194 finished with value: 0.11385767252706858 and parameters: {'x': 1.6625719743010836}. Best is trial 168 with value: 1.5200460075703141e-05.\u001b[0m\n",
      "\u001b[32m[I 2021-11-29 06:35:36,115]\u001b[0m Trial 195 finished with value: 0.008807457072289882 and parameters: {'x': 2.0938480531086814}. Best is trial 168 with value: 1.5200460075703141e-05.\u001b[0m\n",
      "\u001b[32m[I 2021-11-29 06:35:36,120]\u001b[0m Trial 196 finished with value: 0.16344782563001461 and parameters: {'x': 2.4042868111007514}. Best is trial 168 with value: 1.5200460075703141e-05.\u001b[0m\n",
      "\u001b[32m[I 2021-11-29 06:35:36,125]\u001b[0m Trial 197 finished with value: 0.7772222972110725 and parameters: {'x': 2.8816021195590857}. Best is trial 168 with value: 1.5200460075703141e-05.\u001b[0m\n",
      "\u001b[32m[I 2021-11-29 06:35:36,130]\u001b[0m Trial 198 finished with value: 0.3855328960318147 and parameters: {'x': 1.379087046332729}. Best is trial 168 with value: 1.5200460075703141e-05.\u001b[0m\n",
      "\u001b[32m[I 2021-11-29 06:35:36,136]\u001b[0m Trial 199 finished with value: 0.00034434980310296107 and parameters: {'x': 1.9814433353454086}. Best is trial 168 with value: 1.5200460075703141e-05.\u001b[0m\n"
     ]
    }
   ],
   "source": [
    "study.optimize(objective, n_trials=100)"
   ]
  },
  {
   "cell_type": "markdown",
   "metadata": {},
   "source": [
    "To get the updated number of trials:\n",
    "\n"
   ]
  },
  {
   "cell_type": "code",
   "execution_count": 12,
   "metadata": {
    "collapsed": false,
    "jupyter": {
     "outputs_hidden": false
    }
   },
   "outputs": [
    {
     "data": {
      "text/plain": [
       "200"
      ]
     },
     "execution_count": 12,
     "metadata": {},
     "output_type": "execute_result"
    }
   ],
   "source": [
    "len(study.trials)"
   ]
  },
  {
   "cell_type": "markdown",
   "metadata": {},
   "source": [
    "As the objective function is so easy that the last 100 trials don't improve the result.\n",
    "However, we can check the result again:\n",
    "\n"
   ]
  },
  {
   "cell_type": "code",
   "execution_count": 13,
   "metadata": {
    "collapsed": false,
    "jupyter": {
     "outputs_hidden": false
    }
   },
   "outputs": [
    {
     "name": "stdout",
     "output_type": "stream",
     "text": [
      "Found x: 1.996101223259059, (x - 2)^2: 1.5200460075703141e-05\n"
     ]
    }
   ],
   "source": [
    "best_params = study.best_params\n",
    "found_x = best_params[\"x\"]\n",
    "print(\"Found x: {}, (x - 2)^2: {}\".format(found_x, (found_x - 2) ** 2))"
   ]
  },
  {
   "cell_type": "code",
   "execution_count": null,
   "metadata": {},
   "outputs": [],
   "source": []
  }
 ],
 "metadata": {
  "kernelspec": {
   "display_name": "Python 3 (ipykernel)",
   "language": "python",
   "name": "python3"
  },
  "language_info": {
   "codemirror_mode": {
    "name": "ipython",
    "version": 3
   },
   "file_extension": ".py",
   "mimetype": "text/x-python",
   "name": "python",
   "nbconvert_exporter": "python",
   "pygments_lexer": "ipython3",
   "version": "3.7.11"
  }
 },
 "nbformat": 4,
 "nbformat_minor": 4
}
