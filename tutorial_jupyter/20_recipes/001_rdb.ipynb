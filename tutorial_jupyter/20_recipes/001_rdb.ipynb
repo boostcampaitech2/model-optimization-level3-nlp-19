{
 "cells": [
  {
   "cell_type": "markdown",
   "metadata": {},
   "source": [
    "\n",
    "\n",
    "# Saving/Resuming Study with RDB Backend\n",
    "\n",
    "An RDB backend enables persistent experiments (i.e., to save and resume a study) as well as access to history of studies.\n",
    "In addition, we can run multi-node optimization tasks with this feature, which is described in `distributed`.\n",
    "\n",
    "In this section, let's try simple examples running on a local environment with SQLite DB.\n",
    "\n",
    "<div class=\"alert alert-info\"><h4>Note</h4><p>You can also utilize other RDB backends, e.g., PostgreSQL or MySQL, by setting the storage argument to the DB's URL.\n",
    "    Please refer to `SQLAlchemy's document <https://docs.sqlalchemy.org/en/latest/core/engines.html#database-urls>`_ for how to set up the URL.</p></div>\n",
    "\n",
    "\n",
    "## New Study\n",
    "\n",
    "We can create a persistent study by calling :func:`~optuna.study.create_study` function as follows.\n",
    "An SQLite file ``example.db`` is automatically initialized with a new study record.\n"
   ]
  },
  {
   "cell_type": "code",
   "execution_count": 1,
   "metadata": {
    "collapsed": false,
    "jupyter": {
     "outputs_hidden": false
    }
   },
   "outputs": [
    {
     "name": "stderr",
     "output_type": "stream",
     "text": [
      "\u001b[32m[I 2021-11-30 06:41:10,077]\u001b[0m A new study created in RDB with name: example-study\u001b[0m\n"
     ]
    },
    {
     "name": "stdout",
     "output_type": "stream",
     "text": [
      "A new study created in RDB with name: example-study\n"
     ]
    }
   ],
   "source": [
    "import logging\n",
    "import sys\n",
    "\n",
    "import optuna\n",
    "\n",
    "# Add stream handler of stdout to show the messages\n",
    "optuna.logging.get_logger(\"optuna\").addHandler(logging.StreamHandler(sys.stdout))\n",
    "study_name = \"example-study\"  # Unique identifier of the study.\n",
    "storage_name = \"sqlite:///{}.db\".format(study_name)\n",
    "study = optuna.create_study(study_name=study_name, storage=storage_name)"
   ]
  },
  {
   "cell_type": "markdown",
   "metadata": {},
   "source": [
    "To run a study, call :func:`~optuna.study.Study.optimize` method passing an objective function.\n",
    "\n"
   ]
  },
  {
   "cell_type": "code",
   "execution_count": 2,
   "metadata": {
    "collapsed": false,
    "jupyter": {
     "outputs_hidden": false
    }
   },
   "outputs": [
    {
     "name": "stderr",
     "output_type": "stream",
     "text": [
      "\u001b[32m[I 2021-11-30 06:41:15,238]\u001b[0m Trial 0 finished with value: 31.586258803176968 and parameters: {'x': -3.620165371515056}. Best is trial 0 with value: 31.586258803176968.\u001b[0m\n"
     ]
    },
    {
     "name": "stdout",
     "output_type": "stream",
     "text": [
      "Trial 0 finished with value: 31.586258803176968 and parameters: {'x': -3.620165371515056}. Best is trial 0 with value: 31.586258803176968.\n"
     ]
    },
    {
     "name": "stderr",
     "output_type": "stream",
     "text": [
      "\u001b[32m[I 2021-11-30 06:41:15,280]\u001b[0m Trial 1 finished with value: 40.62144109639532 and parameters: {'x': -4.373495202508222}. Best is trial 0 with value: 31.586258803176968.\u001b[0m\n"
     ]
    },
    {
     "name": "stdout",
     "output_type": "stream",
     "text": [
      "Trial 1 finished with value: 40.62144109639532 and parameters: {'x': -4.373495202508222}. Best is trial 0 with value: 31.586258803176968.\n"
     ]
    },
    {
     "name": "stderr",
     "output_type": "stream",
     "text": [
      "\u001b[32m[I 2021-11-30 06:41:15,325]\u001b[0m Trial 2 finished with value: 34.38119029932718 and parameters: {'x': 7.863547586515111}. Best is trial 0 with value: 31.586258803176968.\u001b[0m\n"
     ]
    },
    {
     "name": "stdout",
     "output_type": "stream",
     "text": [
      "Trial 2 finished with value: 34.38119029932718 and parameters: {'x': 7.863547586515111}. Best is trial 0 with value: 31.586258803176968.\n"
     ]
    }
   ],
   "source": [
    "def objective(trial):\n",
    "    x = trial.suggest_float(\"x\", -10, 10)\n",
    "    return (x - 2) ** 2\n",
    "\n",
    "\n",
    "study.optimize(objective, n_trials=3)"
   ]
  },
  {
   "cell_type": "markdown",
   "metadata": {},
   "source": [
    "## Resume Study\n",
    "\n",
    "To resume a study, instantiate a :class:`~optuna.study.Study` object\n",
    "passing the study name ``example-study`` and the DB URL ``sqlite:///example-study.db``.\n",
    "\n"
   ]
  },
  {
   "cell_type": "code",
   "execution_count": 3,
   "metadata": {
    "collapsed": false,
    "jupyter": {
     "outputs_hidden": false
    }
   },
   "outputs": [
    {
     "name": "stderr",
     "output_type": "stream",
     "text": [
      "\u001b[32m[I 2021-11-30 06:42:55,061]\u001b[0m Using an existing study with name 'example-study' instead of creating a new one.\u001b[0m\n"
     ]
    },
    {
     "name": "stdout",
     "output_type": "stream",
     "text": [
      "Using an existing study with name 'example-study' instead of creating a new one.\n"
     ]
    },
    {
     "name": "stderr",
     "output_type": "stream",
     "text": [
      "\u001b[32m[I 2021-11-30 06:42:55,134]\u001b[0m Trial 3 finished with value: 141.7921150299389 and parameters: {'x': -9.907649433449865}. Best is trial 0 with value: 31.586258803176968.\u001b[0m\n"
     ]
    },
    {
     "name": "stdout",
     "output_type": "stream",
     "text": [
      "Trial 3 finished with value: 141.7921150299389 and parameters: {'x': -9.907649433449865}. Best is trial 0 with value: 31.586258803176968.\n"
     ]
    },
    {
     "name": "stderr",
     "output_type": "stream",
     "text": [
      "\u001b[32m[I 2021-11-30 06:42:55,174]\u001b[0m Trial 4 finished with value: 44.07871875191102 and parameters: {'x': -4.63918057834783}. Best is trial 0 with value: 31.586258803176968.\u001b[0m\n"
     ]
    },
    {
     "name": "stdout",
     "output_type": "stream",
     "text": [
      "Trial 4 finished with value: 44.07871875191102 and parameters: {'x': -4.63918057834783}. Best is trial 0 with value: 31.586258803176968.\n"
     ]
    },
    {
     "name": "stderr",
     "output_type": "stream",
     "text": [
      "\u001b[32m[I 2021-11-30 06:42:55,212]\u001b[0m Trial 5 finished with value: 18.094702837704386 and parameters: {'x': -2.2537868820269296}. Best is trial 5 with value: 18.094702837704386.\u001b[0m\n"
     ]
    },
    {
     "name": "stdout",
     "output_type": "stream",
     "text": [
      "Trial 5 finished with value: 18.094702837704386 and parameters: {'x': -2.2537868820269296}. Best is trial 5 with value: 18.094702837704386.\n"
     ]
    }
   ],
   "source": [
    "study = optuna.create_study(study_name=study_name, storage=storage_name, load_if_exists=True)\n",
    "study.optimize(objective, n_trials=3)"
   ]
  },
  {
   "cell_type": "markdown",
   "metadata": {},
   "source": [
    "## Experimental History\n",
    "\n",
    "We can access histories of studies and trials via the :class:`~optuna.study.Study` class.\n",
    "For example, we can get all trials of ``example-study`` as:\n",
    "\n"
   ]
  },
  {
   "cell_type": "code",
   "execution_count": 4,
   "metadata": {
    "collapsed": false,
    "jupyter": {
     "outputs_hidden": false
    }
   },
   "outputs": [
    {
     "name": "stderr",
     "output_type": "stream",
     "text": [
      "\u001b[32m[I 2021-11-30 06:43:46,465]\u001b[0m Using an existing study with name 'example-study' instead of creating a new one.\u001b[0m\n"
     ]
    },
    {
     "name": "stdout",
     "output_type": "stream",
     "text": [
      "Using an existing study with name 'example-study' instead of creating a new one.\n"
     ]
    }
   ],
   "source": [
    "study = optuna.create_study(study_name=study_name, storage=storage_name, load_if_exists=True)\n",
    "df = study.trials_dataframe(attrs=(\"number\", \"value\", \"params\", \"state\"))"
   ]
  },
  {
   "cell_type": "markdown",
   "metadata": {},
   "source": [
    "The method :func:`~optuna.study.Study.trials_dataframe` returns a pandas dataframe like:\n",
    "\n"
   ]
  },
  {
   "cell_type": "code",
   "execution_count": 5,
   "metadata": {
    "collapsed": false,
    "jupyter": {
     "outputs_hidden": false
    }
   },
   "outputs": [
    {
     "name": "stdout",
     "output_type": "stream",
     "text": [
      "   number       value  params_x     state\n",
      "0       0   31.586259 -3.620165  COMPLETE\n",
      "1       1   40.621441 -4.373495  COMPLETE\n",
      "2       2   34.381190  7.863548  COMPLETE\n",
      "3       3  141.792115 -9.907649  COMPLETE\n",
      "4       4   44.078719 -4.639181  COMPLETE\n",
      "5       5   18.094703 -2.253787  COMPLETE\n"
     ]
    }
   ],
   "source": [
    "print(df)"
   ]
  },
  {
   "cell_type": "markdown",
   "metadata": {},
   "source": [
    "A :class:`~optuna.study.Study` object also provides properties\n",
    "such as :attr:`~optuna.study.Study.trials`, :attr:`~optuna.study.Study.best_value`,\n",
    ":attr:`~optuna.study.Study.best_params` (see also `first`).\n",
    "\n"
   ]
  },
  {
   "cell_type": "code",
   "execution_count": 6,
   "metadata": {
    "collapsed": false,
    "jupyter": {
     "outputs_hidden": false
    }
   },
   "outputs": [
    {
     "name": "stdout",
     "output_type": "stream",
     "text": [
      "Best params:  {'x': -2.2537868820269296}\n",
      "Best value:  18.094702837704386\n",
      "Best Trial:  FrozenTrial(number=5, values=[18.094702837704386], datetime_start=datetime.datetime(2021, 11, 30, 6, 42, 55, 179067), datetime_complete=datetime.datetime(2021, 11, 30, 6, 42, 55, 192590), params={'x': -2.2537868820269296}, distributions={'x': UniformDistribution(high=10.0, low=-10.0)}, user_attrs={}, system_attrs={}, intermediate_values={}, trial_id=6, state=TrialState.COMPLETE, value=None)\n",
      "Trials:  [FrozenTrial(number=0, values=[31.586258803176968], datetime_start=datetime.datetime(2021, 11, 30, 6, 41, 15, 185861), datetime_complete=datetime.datetime(2021, 11, 30, 6, 41, 15, 204601), params={'x': -3.620165371515056}, distributions={'x': UniformDistribution(high=10.0, low=-10.0)}, user_attrs={}, system_attrs={}, intermediate_values={}, trial_id=1, state=TrialState.COMPLETE, value=None), FrozenTrial(number=1, values=[40.62144109639532], datetime_start=datetime.datetime(2021, 11, 30, 6, 41, 15, 243461), datetime_complete=datetime.datetime(2021, 11, 30, 6, 41, 15, 261122), params={'x': -4.373495202508222}, distributions={'x': UniformDistribution(high=10.0, low=-10.0)}, user_attrs={}, system_attrs={}, intermediate_values={}, trial_id=2, state=TrialState.COMPLETE, value=None), FrozenTrial(number=2, values=[34.38119029932718], datetime_start=datetime.datetime(2021, 11, 30, 6, 41, 15, 285542), datetime_complete=datetime.datetime(2021, 11, 30, 6, 41, 15, 302580), params={'x': 7.863547586515111}, distributions={'x': UniformDistribution(high=10.0, low=-10.0)}, user_attrs={}, system_attrs={}, intermediate_values={}, trial_id=3, state=TrialState.COMPLETE, value=None), FrozenTrial(number=3, values=[141.7921150299389], datetime_start=datetime.datetime(2021, 11, 30, 6, 42, 55, 89771), datetime_complete=datetime.datetime(2021, 11, 30, 6, 42, 55, 107558), params={'x': -9.907649433449865}, distributions={'x': UniformDistribution(high=10.0, low=-10.0)}, user_attrs={}, system_attrs={}, intermediate_values={}, trial_id=4, state=TrialState.COMPLETE, value=None), FrozenTrial(number=4, values=[44.07871875191102], datetime_start=datetime.datetime(2021, 11, 30, 6, 42, 55, 139280), datetime_complete=datetime.datetime(2021, 11, 30, 6, 42, 55, 153546), params={'x': -4.63918057834783}, distributions={'x': UniformDistribution(high=10.0, low=-10.0)}, user_attrs={}, system_attrs={}, intermediate_values={}, trial_id=5, state=TrialState.COMPLETE, value=None), FrozenTrial(number=5, values=[18.094702837704386], datetime_start=datetime.datetime(2021, 11, 30, 6, 42, 55, 179067), datetime_complete=datetime.datetime(2021, 11, 30, 6, 42, 55, 192590), params={'x': -2.2537868820269296}, distributions={'x': UniformDistribution(high=10.0, low=-10.0)}, user_attrs={}, system_attrs={}, intermediate_values={}, trial_id=6, state=TrialState.COMPLETE, value=None)]\n"
     ]
    }
   ],
   "source": [
    "print(\"Best params: \", study.best_params)\n",
    "print(\"Best value: \", study.best_value)\n",
    "print(\"Best Trial: \", study.best_trial)\n",
    "print(\"Trials: \", study.trials)"
   ]
  },
  {
   "cell_type": "code",
   "execution_count": null,
   "metadata": {},
   "outputs": [],
   "source": []
  }
 ],
 "metadata": {
  "kernelspec": {
   "display_name": "Python 3 (ipykernel)",
   "language": "python",
   "name": "python3"
  },
  "language_info": {
   "codemirror_mode": {
    "name": "ipython",
    "version": 3
   },
   "file_extension": ".py",
   "mimetype": "text/x-python",
   "name": "python",
   "nbconvert_exporter": "python",
   "pygments_lexer": "ipython3",
   "version": "3.7.11"
  }
 },
 "nbformat": 4,
 "nbformat_minor": 4
}
