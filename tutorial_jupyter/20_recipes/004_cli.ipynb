{
 "cells": [
  {
   "cell_type": "markdown",
   "metadata": {},
   "source": [
    "\n",
    "\n",
    "# Command-Line Interface\n",
    "\n",
    ".. csv-table::\n",
    "   :header: Command, Description\n",
    "   :widths: 20, 40\n",
    "\n",
    "    create-study, Create a new study.\n",
    "    delete-study, Delete a specified study.\n",
    "    dashboard, Launch web dashboard (beta).\n",
    "    storage upgrade, Upgrade the schema of a storage.\n",
    "    studies, Show a list of studies.\n",
    "    study optimize, Start optimization of a study.\n",
    "    study set-user-attr, Set a user attribute to a study.\n",
    "\n",
    "Optuna provides command-line interface as shown in the above table.\n",
    "\n",
    "Let us assume you are not in IPython shell and writing Python script files instead.\n",
    "It is totally fine to write scripts like the following:\n"
   ]
  },
  {
   "cell_type": "code",
   "execution_count": 1,
   "metadata": {
    "collapsed": true,
    "jupyter": {
     "outputs_hidden": true
    },
    "tags": []
   },
   "outputs": [
    {
     "name": "stderr",
     "output_type": "stream",
     "text": [
      "\u001b[32m[I 2021-11-30 09:07:22,096]\u001b[0m A new study created in memory with name: no-name-108b2282-dca2-4b86-936b-007c56a8c112\u001b[0m\n",
      "\u001b[32m[I 2021-11-30 09:07:22,098]\u001b[0m Trial 0 finished with value: 14.981304725257381 and parameters: {'x': 5.870569044114493}. Best is trial 0 with value: 14.981304725257381.\u001b[0m\n",
      "\u001b[32m[I 2021-11-30 09:07:22,102]\u001b[0m Trial 1 finished with value: 18.862337550111807 and parameters: {'x': -2.3430792705305077}. Best is trial 0 with value: 14.981304725257381.\u001b[0m\n",
      "\u001b[32m[I 2021-11-30 09:07:22,103]\u001b[0m Trial 2 finished with value: 0.4531808584815407 and parameters: {'x': 1.3268129097483072}. Best is trial 2 with value: 0.4531808584815407.\u001b[0m\n",
      "\u001b[32m[I 2021-11-30 09:07:22,105]\u001b[0m Trial 3 finished with value: 9.123890700738732 and parameters: {'x': 5.0205778752978265}. Best is trial 2 with value: 0.4531808584815407.\u001b[0m\n",
      "\u001b[32m[I 2021-11-30 09:07:22,106]\u001b[0m Trial 4 finished with value: 13.688198519902967 and parameters: {'x': 5.699756548734385}. Best is trial 2 with value: 0.4531808584815407.\u001b[0m\n",
      "\u001b[32m[I 2021-11-30 09:07:22,110]\u001b[0m Trial 5 finished with value: 18.35742056354137 and parameters: {'x': -2.2845560520947057}. Best is trial 2 with value: 0.4531808584815407.\u001b[0m\n",
      "\u001b[32m[I 2021-11-30 09:07:22,111]\u001b[0m Trial 6 finished with value: 61.54892111542394 and parameters: {'x': 9.845312047039553}. Best is trial 2 with value: 0.4531808584815407.\u001b[0m\n",
      "\u001b[32m[I 2021-11-30 09:07:22,114]\u001b[0m Trial 7 finished with value: 85.86774115126971 and parameters: {'x': -7.266484832517113}. Best is trial 2 with value: 0.4531808584815407.\u001b[0m\n",
      "\u001b[32m[I 2021-11-30 09:07:22,116]\u001b[0m Trial 8 finished with value: 79.6755214966683 and parameters: {'x': -6.926114580077285}. Best is trial 2 with value: 0.4531808584815407.\u001b[0m\n",
      "\u001b[32m[I 2021-11-30 09:07:22,117]\u001b[0m Trial 9 finished with value: 0.9164529088002263 and parameters: {'x': 2.95731546984274}. Best is trial 2 with value: 0.4531808584815407.\u001b[0m\n",
      "\u001b[32m[I 2021-11-30 09:07:22,122]\u001b[0m Trial 10 finished with value: 2.9644185901205824 and parameters: {'x': 0.2782512987893435}. Best is trial 2 with value: 0.4531808584815407.\u001b[0m\n",
      "\u001b[32m[I 2021-11-30 09:07:22,127]\u001b[0m Trial 11 finished with value: 0.17796111764877035 and parameters: {'x': 1.5781456203276178}. Best is trial 11 with value: 0.17796111764877035.\u001b[0m\n",
      "\u001b[32m[I 2021-11-30 09:07:22,132]\u001b[0m Trial 12 finished with value: 5.290655533134087 and parameters: {'x': -0.30014250278848764}. Best is trial 11 with value: 0.17796111764877035.\u001b[0m\n",
      "\u001b[32m[I 2021-11-30 09:07:22,136]\u001b[0m Trial 13 finished with value: 0.12490362798416646 and parameters: {'x': 1.6465829262978846}. Best is trial 13 with value: 0.12490362798416646.\u001b[0m\n",
      "\u001b[32m[I 2021-11-30 09:07:22,141]\u001b[0m Trial 14 finished with value: 39.05652195375455 and parameters: {'x': -4.249521738001601}. Best is trial 13 with value: 0.12490362798416646.\u001b[0m\n",
      "\u001b[32m[I 2021-11-30 09:07:22,145]\u001b[0m Trial 15 finished with value: 53.783714309864784 and parameters: {'x': 9.333738085714868}. Best is trial 13 with value: 0.12490362798416646.\u001b[0m\n",
      "\u001b[32m[I 2021-11-30 09:07:22,150]\u001b[0m Trial 16 finished with value: 0.588016745204481 and parameters: {'x': 2.7668224991511927}. Best is trial 13 with value: 0.12490362798416646.\u001b[0m\n",
      "\u001b[32m[I 2021-11-30 09:07:22,154]\u001b[0m Trial 17 finished with value: 25.228788687785144 and parameters: {'x': -3.0228267626691196}. Best is trial 13 with value: 0.12490362798416646.\u001b[0m\n",
      "\u001b[32m[I 2021-11-30 09:07:22,159]\u001b[0m Trial 18 finished with value: 30.469296342312752 and parameters: {'x': 7.519900030101338}. Best is trial 13 with value: 0.12490362798416646.\u001b[0m\n",
      "\u001b[32m[I 2021-11-30 09:07:22,163]\u001b[0m Trial 19 finished with value: 0.5842765223300335 and parameters: {'x': 2.764379828573487}. Best is trial 13 with value: 0.12490362798416646.\u001b[0m\n",
      "\u001b[32m[I 2021-11-30 09:07:22,168]\u001b[0m Trial 20 finished with value: 49.125717263553945 and parameters: {'x': -5.008974052138726}. Best is trial 13 with value: 0.12490362798416646.\u001b[0m\n",
      "\u001b[32m[I 2021-11-30 09:07:22,172]\u001b[0m Trial 21 finished with value: 1.5748327226110423 and parameters: {'x': 0.7450766068755265}. Best is trial 13 with value: 0.12490362798416646.\u001b[0m\n",
      "\u001b[32m[I 2021-11-30 09:07:22,177]\u001b[0m Trial 22 finished with value: 1.1469914067802676 and parameters: {'x': 0.9290231530139097}. Best is trial 13 with value: 0.12490362798416646.\u001b[0m\n",
      "\u001b[32m[I 2021-11-30 09:07:22,182]\u001b[0m Trial 23 finished with value: 143.88037489487164 and parameters: {'x': -9.995014585021213}. Best is trial 13 with value: 0.12490362798416646.\u001b[0m\n",
      "\u001b[32m[I 2021-11-30 09:07:22,187]\u001b[0m Trial 24 finished with value: 8.382682976851962 and parameters: {'x': -0.8952863376274136}. Best is trial 13 with value: 0.12490362798416646.\u001b[0m\n",
      "\u001b[32m[I 2021-11-30 09:07:22,193]\u001b[0m Trial 25 finished with value: 2.979651284808474 and parameters: {'x': 3.726166644564908}. Best is trial 13 with value: 0.12490362798416646.\u001b[0m\n",
      "\u001b[32m[I 2021-11-30 09:07:22,198]\u001b[0m Trial 26 finished with value: 0.06547551456354539 and parameters: {'x': 1.7441181628885212}. Best is trial 26 with value: 0.06547551456354539.\u001b[0m\n",
      "\u001b[32m[I 2021-11-30 09:07:22,202]\u001b[0m Trial 27 finished with value: 6.138945814621177 and parameters: {'x': 4.47768961224387}. Best is trial 26 with value: 0.06547551456354539.\u001b[0m\n",
      "\u001b[32m[I 2021-11-30 09:07:22,207]\u001b[0m Trial 28 finished with value: 27.35014339102085 and parameters: {'x': 7.229736455216539}. Best is trial 26 with value: 0.06547551456354539.\u001b[0m\n",
      "\u001b[32m[I 2021-11-30 09:07:22,212]\u001b[0m Trial 29 finished with value: 11.09751259862594 and parameters: {'x': -1.331292931974902}. Best is trial 26 with value: 0.06547551456354539.\u001b[0m\n",
      "\u001b[32m[I 2021-11-30 09:07:22,217]\u001b[0m Trial 30 finished with value: 0.29920426993885757 and parameters: {'x': 1.4530043236561576}. Best is trial 26 with value: 0.06547551456354539.\u001b[0m\n",
      "\u001b[32m[I 2021-11-30 09:07:22,221]\u001b[0m Trial 31 finished with value: 0.013146601284943217 and parameters: {'x': 1.8853413706477213}. Best is trial 31 with value: 0.013146601284943217.\u001b[0m\n",
      "\u001b[32m[I 2021-11-30 09:07:22,226]\u001b[0m Trial 32 finished with value: 0.04884006173661077 and parameters: {'x': 2.220997877221956}. Best is trial 31 with value: 0.013146601284943217.\u001b[0m\n",
      "\u001b[32m[I 2021-11-30 09:07:22,231]\u001b[0m Trial 33 finished with value: 0.002860180544733669 and parameters: {'x': 2.053480655799398}. Best is trial 33 with value: 0.002860180544733669.\u001b[0m\n",
      "\u001b[32m[I 2021-11-30 09:07:22,236]\u001b[0m Trial 34 finished with value: 4.086813699002291 and parameters: {'x': 4.021586925908033}. Best is trial 33 with value: 0.002860180544733669.\u001b[0m\n",
      "\u001b[32m[I 2021-11-30 09:07:22,240]\u001b[0m Trial 35 finished with value: 15.027761436146617 and parameters: {'x': 5.876565675458965}. Best is trial 33 with value: 0.002860180544733669.\u001b[0m\n",
      "\u001b[32m[I 2021-11-30 09:07:22,245]\u001b[0m Trial 36 finished with value: 15.099334481390084 and parameters: {'x': 5.885786211487977}. Best is trial 33 with value: 0.002860180544733669.\u001b[0m\n",
      "\u001b[32m[I 2021-11-30 09:07:22,250]\u001b[0m Trial 37 finished with value: 0.3741885585939988 and parameters: {'x': 2.611709537766086}. Best is trial 33 with value: 0.002860180544733669.\u001b[0m\n",
      "\u001b[32m[I 2021-11-30 09:07:22,255]\u001b[0m Trial 38 finished with value: 11.68857942924228 and parameters: {'x': -1.4188564505170849}. Best is trial 33 with value: 0.002860180544733669.\u001b[0m\n",
      "\u001b[32m[I 2021-11-30 09:07:22,259]\u001b[0m Trial 39 finished with value: 4.481607116225339 and parameters: {'x': -0.11698066033332913}. Best is trial 33 with value: 0.002860180544733669.\u001b[0m\n",
      "\u001b[32m[I 2021-11-30 09:07:22,264]\u001b[0m Trial 40 finished with value: 19.020052845062647 and parameters: {'x': -2.3611985560236355}. Best is trial 33 with value: 0.002860180544733669.\u001b[0m\n",
      "\u001b[32m[I 2021-11-30 09:07:22,269]\u001b[0m Trial 41 finished with value: 0.10083612113697071 and parameters: {'x': 1.6824529623237359}. Best is trial 33 with value: 0.002860180544733669.\u001b[0m\n",
      "\u001b[32m[I 2021-11-30 09:07:22,274]\u001b[0m Trial 42 finished with value: 0.03506755410960818 and parameters: {'x': 2.1872633282562504}. Best is trial 33 with value: 0.002860180544733669.\u001b[0m\n",
      "\u001b[32m[I 2021-11-30 09:07:22,278]\u001b[0m Trial 43 finished with value: 8.187852719000734 and parameters: {'x': 4.861442419305469}. Best is trial 33 with value: 0.002860180544733669.\u001b[0m\n",
      "\u001b[32m[I 2021-11-30 09:07:22,283]\u001b[0m Trial 44 finished with value: 3.1565652953904375 and parameters: {'x': 3.7766725346530343}. Best is trial 33 with value: 0.002860180544733669.\u001b[0m\n",
      "\u001b[32m[I 2021-11-30 09:07:22,287]\u001b[0m Trial 45 finished with value: 0.007230529280098028 and parameters: {'x': 2.0850325189565617}. Best is trial 33 with value: 0.002860180544733669.\u001b[0m\n",
      "\u001b[32m[I 2021-11-30 09:07:22,291]\u001b[0m Trial 46 finished with value: 1.6351045053676574 and parameters: {'x': 3.278712049433983}. Best is trial 33 with value: 0.002860180544733669.\u001b[0m\n",
      "\u001b[32m[I 2021-11-30 09:07:22,296]\u001b[0m Trial 47 finished with value: 0.04776996911069789 and parameters: {'x': 2.2185634212550167}. Best is trial 33 with value: 0.002860180544733669.\u001b[0m\n",
      "\u001b[32m[I 2021-11-30 09:07:22,300]\u001b[0m Trial 48 finished with value: 2.307274768964529 and parameters: {'x': 0.4810283844111738}. Best is trial 33 with value: 0.002860180544733669.\u001b[0m\n",
      "\u001b[32m[I 2021-11-30 09:07:22,305]\u001b[0m Trial 49 finished with value: 12.14901967934812 and parameters: {'x': 5.485544387803449}. Best is trial 33 with value: 0.002860180544733669.\u001b[0m\n",
      "\u001b[32m[I 2021-11-30 09:07:22,310]\u001b[0m Trial 50 finished with value: 6.227161174104921 and parameters: {'x': -0.49542805428345726}. Best is trial 33 with value: 0.002860180544733669.\u001b[0m\n",
      "\u001b[32m[I 2021-11-30 09:07:22,315]\u001b[0m Trial 51 finished with value: 0.028540682285994746 and parameters: {'x': 2.16893987772576}. Best is trial 33 with value: 0.002860180544733669.\u001b[0m\n",
      "\u001b[32m[I 2021-11-30 09:07:22,320]\u001b[0m Trial 52 finished with value: 0.08176581633117941 and parameters: {'x': 2.285947226479257}. Best is trial 33 with value: 0.002860180544733669.\u001b[0m\n",
      "\u001b[32m[I 2021-11-30 09:07:22,325]\u001b[0m Trial 53 finished with value: 1.7482505346743429 and parameters: {'x': 3.3222142544513513}. Best is trial 33 with value: 0.002860180544733669.\u001b[0m\n",
      "\u001b[32m[I 2021-11-30 09:07:22,330]\u001b[0m Trial 54 finished with value: 1.2862611954243655 and parameters: {'x': 0.8658654420994105}. Best is trial 33 with value: 0.002860180544733669.\u001b[0m\n",
      "\u001b[32m[I 2021-11-30 09:07:22,335]\u001b[0m Trial 55 finished with value: 3.269265562964129 and parameters: {'x': 0.19188895170564013}. Best is trial 33 with value: 0.002860180544733669.\u001b[0m\n",
      "\u001b[32m[I 2021-11-30 09:07:22,340]\u001b[0m Trial 56 finished with value: 24.987920923435926 and parameters: {'x': 6.998791946404244}. Best is trial 33 with value: 0.002860180544733669.\u001b[0m\n",
      "\u001b[32m[I 2021-11-30 09:07:22,345]\u001b[0m Trial 57 finished with value: 6.201746829020695 and parameters: {'x': 4.4903306666024685}. Best is trial 33 with value: 0.002860180544733669.\u001b[0m\n",
      "\u001b[32m[I 2021-11-30 09:07:22,350]\u001b[0m Trial 58 finished with value: 0.07279292989934878 and parameters: {'x': 2.269801649178334}. Best is trial 33 with value: 0.002860180544733669.\u001b[0m\n",
      "\u001b[32m[I 2021-11-30 09:07:22,355]\u001b[0m Trial 59 finished with value: 0.6313845759411902 and parameters: {'x': 1.2054028845124152}. Best is trial 33 with value: 0.002860180544733669.\u001b[0m\n",
      "\u001b[32m[I 2021-11-30 09:07:22,359]\u001b[0m Trial 60 finished with value: 0.7889878036328539 and parameters: {'x': 2.888249854282484}. Best is trial 33 with value: 0.002860180544733669.\u001b[0m\n",
      "\u001b[32m[I 2021-11-30 09:07:22,364]\u001b[0m Trial 61 finished with value: 0.08620745484300983 and parameters: {'x': 2.2936110604916133}. Best is trial 33 with value: 0.002860180544733669.\u001b[0m\n",
      "\u001b[32m[I 2021-11-30 09:07:22,369]\u001b[0m Trial 62 finished with value: 0.020821423328388378 and parameters: {'x': 1.8557036960681654}. Best is trial 33 with value: 0.002860180544733669.\u001b[0m\n",
      "\u001b[32m[I 2021-11-30 09:07:22,374]\u001b[0m Trial 63 finished with value: 2.322368375686902 and parameters: {'x': 3.5239318802646338}. Best is trial 33 with value: 0.002860180544733669.\u001b[0m\n",
      "\u001b[32m[I 2021-11-30 09:07:22,379]\u001b[0m Trial 64 finished with value: 2.2284601036916314 and parameters: {'x': 0.5071972321530109}. Best is trial 33 with value: 0.002860180544733669.\u001b[0m\n",
      "\u001b[32m[I 2021-11-30 09:07:22,384]\u001b[0m Trial 65 finished with value: 0.034366397018920365 and parameters: {'x': 1.8146182397890225}. Best is trial 33 with value: 0.002860180544733669.\u001b[0m\n",
      "\u001b[32m[I 2021-11-30 09:07:22,388]\u001b[0m Trial 66 finished with value: 0.48929742688205313 and parameters: {'x': 1.3005020179571258}. Best is trial 33 with value: 0.002860180544733669.\u001b[0m\n",
      "\u001b[32m[I 2021-11-30 09:07:22,392]\u001b[0m Trial 67 finished with value: 8.995300999512983 and parameters: {'x': -0.999216731000443}. Best is trial 33 with value: 0.002860180544733669.\u001b[0m\n",
      "\u001b[32m[I 2021-11-30 09:07:22,397]\u001b[0m Trial 68 finished with value: 5.160886799743385 and parameters: {'x': 4.271758525843666}. Best is trial 33 with value: 0.002860180544733669.\u001b[0m\n",
      "\u001b[32m[I 2021-11-30 09:07:22,403]\u001b[0m Trial 69 finished with value: 0.05532278672285933 and parameters: {'x': 1.7647920351627961}. Best is trial 33 with value: 0.002860180544733669.\u001b[0m\n",
      "\u001b[32m[I 2021-11-30 09:07:22,407]\u001b[0m Trial 70 finished with value: 6.286236418967795 and parameters: {'x': -0.507236809511179}. Best is trial 33 with value: 0.002860180544733669.\u001b[0m\n",
      "\u001b[32m[I 2021-11-30 09:07:22,412]\u001b[0m Trial 71 finished with value: 0.9932865435137901 and parameters: {'x': 2.996637618953745}. Best is trial 33 with value: 0.002860180544733669.\u001b[0m\n",
      "\u001b[32m[I 2021-11-30 09:07:22,417]\u001b[0m Trial 72 finished with value: 0.012809465631234748 and parameters: {'x': 1.8868210901659026}. Best is trial 33 with value: 0.002860180544733669.\u001b[0m\n",
      "\u001b[32m[I 2021-11-30 09:07:22,422]\u001b[0m Trial 73 finished with value: 0.765697680542232 and parameters: {'x': 1.1249584692471837}. Best is trial 33 with value: 0.002860180544733669.\u001b[0m\n",
      "\u001b[32m[I 2021-11-30 09:07:22,428]\u001b[0m Trial 74 finished with value: 0.04930466490509693 and parameters: {'x': 1.7779534622987854}. Best is trial 33 with value: 0.002860180544733669.\u001b[0m\n",
      "\u001b[32m[I 2021-11-30 09:07:22,433]\u001b[0m Trial 75 finished with value: 3.4724473669525344 and parameters: {'x': 0.1365496070588479}. Best is trial 33 with value: 0.002860180544733669.\u001b[0m\n",
      "\u001b[32m[I 2021-11-30 09:07:22,438]\u001b[0m Trial 76 finished with value: 9.561664807013491 and parameters: {'x': 5.092194173562438}. Best is trial 33 with value: 0.002860180544733669.\u001b[0m\n",
      "\u001b[32m[I 2021-11-30 09:07:22,443]\u001b[0m Trial 77 finished with value: 14.772498111444246 and parameters: {'x': -1.8435007625138107}. Best is trial 33 with value: 0.002860180544733669.\u001b[0m\n",
      "\u001b[32m[I 2021-11-30 09:07:22,449]\u001b[0m Trial 78 finished with value: 0.38207292532596004 and parameters: {'x': 2.618120478002436}. Best is trial 33 with value: 0.002860180544733669.\u001b[0m\n",
      "\u001b[32m[I 2021-11-30 09:07:22,454]\u001b[0m Trial 79 finished with value: 1.238918162056267 and parameters: {'x': 0.8869329930070396}. Best is trial 33 with value: 0.002860180544733669.\u001b[0m\n",
      "\u001b[32m[I 2021-11-30 09:07:22,458]\u001b[0m Trial 80 finished with value: 3.175478067626282 and parameters: {'x': 3.781987112081982}. Best is trial 33 with value: 0.002860180544733669.\u001b[0m\n",
      "\u001b[32m[I 2021-11-30 09:07:22,463]\u001b[0m Trial 81 finished with value: 0.00015730793923937354 and parameters: {'x': 2.012542246179986}. Best is trial 81 with value: 0.00015730793923937354.\u001b[0m\n",
      "\u001b[32m[I 2021-11-30 09:07:22,469]\u001b[0m Trial 82 finished with value: 0.08328956759754183 and parameters: {'x': 1.7114006798387393}. Best is trial 81 with value: 0.00015730793923937354.\u001b[0m\n",
      "\u001b[32m[I 2021-11-30 09:07:22,474]\u001b[0m Trial 83 finished with value: 1.2699229721867977 and parameters: {'x': 3.1269085908745207}. Best is trial 81 with value: 0.00015730793923937354.\u001b[0m\n",
      "\u001b[32m[I 2021-11-30 09:07:22,479]\u001b[0m Trial 84 finished with value: 0.0021124848211201007 and parameters: {'x': 2.0459617756523842}. Best is trial 81 with value: 0.00015730793923937354.\u001b[0m\n",
      "\u001b[32m[I 2021-11-30 09:07:22,484]\u001b[0m Trial 85 finished with value: 0.40906681500424563 and parameters: {'x': 2.639583313575523}. Best is trial 81 with value: 0.00015730793923937354.\u001b[0m\n",
      "\u001b[32m[I 2021-11-30 09:07:22,489]\u001b[0m Trial 86 finished with value: 4.927066441158601 and parameters: {'x': -0.21969962858910289}. Best is trial 81 with value: 0.00015730793923937354.\u001b[0m\n",
      "\u001b[32m[I 2021-11-30 09:07:22,494]\u001b[0m Trial 87 finished with value: 1.7872261287831714 and parameters: {'x': 0.6631282302392756}. Best is trial 81 with value: 0.00015730793923937354.\u001b[0m\n",
      "\u001b[32m[I 2021-11-30 09:07:22,499]\u001b[0m Trial 88 finished with value: 0.4541500605496987 and parameters: {'x': 1.3260934333680234}. Best is trial 81 with value: 0.00015730793923937354.\u001b[0m\n",
      "\u001b[32m[I 2021-11-30 09:07:22,504]\u001b[0m Trial 89 finished with value: 0.007901722576370156 and parameters: {'x': 1.911108366105858}. Best is trial 81 with value: 0.00015730793923937354.\u001b[0m\n",
      "\u001b[32m[I 2021-11-30 09:07:22,510]\u001b[0m Trial 90 finished with value: 2.0351734464279345 and parameters: {'x': 3.4265950534149257}. Best is trial 81 with value: 0.00015730793923937354.\u001b[0m\n",
      "\u001b[32m[I 2021-11-30 09:07:22,515]\u001b[0m Trial 91 finished with value: 3.982400958612728e-06 and parameters: {'x': 2.001995595389505}. Best is trial 91 with value: 3.982400958612728e-06.\u001b[0m\n",
      "\u001b[32m[I 2021-11-30 09:07:22,520]\u001b[0m Trial 92 finished with value: 0.00051332078052285 and parameters: {'x': 2.022656583602186}. Best is trial 91 with value: 3.982400958612728e-06.\u001b[0m\n",
      "\u001b[32m[I 2021-11-30 09:07:22,525]\u001b[0m Trial 93 finished with value: 0.6956984406075027 and parameters: {'x': 2.8340853916761177}. Best is trial 91 with value: 3.982400958612728e-06.\u001b[0m\n",
      "\u001b[32m[I 2021-11-30 09:07:22,529]\u001b[0m Trial 94 finished with value: 2.583887328957874 and parameters: {'x': 0.3925525423959033}. Best is trial 91 with value: 3.982400958612728e-06.\u001b[0m\n",
      "\u001b[32m[I 2021-11-30 09:07:22,534]\u001b[0m Trial 95 finished with value: 0.9350938381811172 and parameters: {'x': 1.0329974983583976}. Best is trial 91 with value: 3.982400958612728e-06.\u001b[0m\n",
      "\u001b[32m[I 2021-11-30 09:07:22,539]\u001b[0m Trial 96 finished with value: 3.7626604125537933e-07 and parameters: {'x': 2.000613405283035}. Best is trial 96 with value: 3.7626604125537933e-07.\u001b[0m\n",
      "\u001b[32m[I 2021-11-30 09:07:22,544]\u001b[0m Trial 97 finished with value: 0.20084205159371907 and parameters: {'x': 2.448154048953838}. Best is trial 96 with value: 3.7626604125537933e-07.\u001b[0m\n",
      "\u001b[32m[I 2021-11-30 09:07:22,549]\u001b[0m Trial 98 finished with value: 3.7747703164817823 and parameters: {'x': 3.9428768145412056}. Best is trial 96 with value: 3.7626604125537933e-07.\u001b[0m\n",
      "\u001b[32m[I 2021-11-30 09:07:22,555]\u001b[0m Trial 99 finished with value: 0.3418827460868195 and parameters: {'x': 1.4152925978860713}. Best is trial 96 with value: 3.7626604125537933e-07.\u001b[0m\n"
     ]
    },
    {
     "name": "stdout",
     "output_type": "stream",
     "text": [
      "Best value: 3.7626604125537933e-07 (params: {'x': 2.000613405283035})\n",
      "\n"
     ]
    }
   ],
   "source": [
    "import optuna\n",
    "\n",
    "\n",
    "def objective(trial):\n",
    "    x = trial.suggest_float(\"x\", -10, 10)\n",
    "    return (x - 2) ** 2\n",
    "\n",
    "\n",
    "if __name__ == \"__main__\":\n",
    "    study = optuna.create_study()\n",
    "    study.optimize(objective, n_trials=100)\n",
    "    print(\"Best value: {} (params: {})\\n\".format(study.best_value, study.best_params))"
   ]
  },
  {
   "cell_type": "markdown",
   "metadata": {},
   "source": [
    "However, we can reduce boilerplate codes by using our ``optuna`` command.\n",
    "Let us assume that ``foo.py`` contains only the following code.\n",
    "\n"
   ]
  },
  {
   "cell_type": "code",
   "execution_count": 2,
   "metadata": {
    "collapsed": false,
    "jupyter": {
     "outputs_hidden": false
    }
   },
   "outputs": [],
   "source": [
    "def objective(trial):\n",
    "    x = trial.suggest_float(\"x\", -10, 10)\n",
    "    return (x - 2) ** 2"
   ]
  },
  {
   "cell_type": "markdown",
   "metadata": {},
   "source": [
    "Even so, we can invoke the optimization as follows.\n",
    "(Don't care about ``--storage sqlite:///example.db`` for now, which is described in `rdb`.)\n",
    "\n",
    ".. code-block:: bash\n",
    "\n",
    "    $ cat foo.py\n",
    "    def objective(trial):\n",
    "        x = trial.suggest_float('x', -10, 10)\n",
    "        return (x - 2) ** 2\n",
    "\n",
    "    $ STUDY_NAME=`optuna create-study --storage sqlite:///example.db`\n",
    "    $ optuna study optimize foo.py objective --n-trials=100 --storage sqlite:///example.db --study-name $STUDY_NAME\n",
    "    [I 2018-05-09 10:40:25,196] Finished a trial resulted in value: 54.353767789264026. Current best value is 54.353767789264026 with parameters: {'x': -5.372500782588228}.\n",
    "    [I 2018-05-09 10:40:25,197] Finished a trial resulted in value: 15.784266965526376. Current best value is 15.784266965526376 with parameters: {'x': 5.972941852774387}.\n",
    "    ...\n",
    "    [I 2018-05-09 10:40:26,204] Finished a trial resulted in value: 14.704254135013741. Current best value is 2.280758099793617e-06 with parameters: {'x': 1.9984897821018828}.\n",
    "\n",
    "Please note that ``foo.py`` only contains the definition of the objective function.\n",
    "By giving the script file name and the method name of objective function to\n",
    "``optuna study optimize`` command, we can invoke the optimization.\n",
    "\n"
   ]
  }
 ],
 "metadata": {
  "kernelspec": {
   "display_name": "Python 3 (ipykernel)",
   "language": "python",
   "name": "python3"
  },
  "language_info": {
   "codemirror_mode": {
    "name": "ipython",
    "version": 3
   },
   "file_extension": ".py",
   "mimetype": "text/x-python",
   "name": "python",
   "nbconvert_exporter": "python",
   "pygments_lexer": "ipython3",
   "version": "3.7.11"
  }
 },
 "nbformat": 4,
 "nbformat_minor": 4
}
