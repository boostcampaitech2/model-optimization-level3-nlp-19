{
 "cells": [
  {
   "cell_type": "markdown",
   "metadata": {},
   "source": [
    "\n",
    "\n",
    "# User Attributes\n",
    "\n",
    "This feature is to annotate experiments with user-defined attributes.\n"
   ]
  },
  {
   "cell_type": "markdown",
   "metadata": {},
   "source": [
    "## Adding User Attributes to Studies\n",
    "\n",
    "A :class:`~optuna.study.Study` object provides :func:`~optuna.study.Study.set_user_attr` method\n",
    "to register a pair of key and value as an user-defined attribute.\n",
    "A key is supposed to be a ``str``, and a value be any object serializable with ``json.dumps``.\n",
    "\n"
   ]
  },
  {
   "cell_type": "code",
   "execution_count": 1,
   "metadata": {
    "collapsed": false,
    "jupyter": {
     "outputs_hidden": false
    }
   },
   "outputs": [
    {
     "name": "stderr",
     "output_type": "stream",
     "text": [
      "\u001b[32m[I 2021-11-30 08:56:50,300]\u001b[0m A new study created in RDB with name: no-name-8d502cd6-400d-4650-b13c-e9a36df9a8a1\u001b[0m\n"
     ]
    }
   ],
   "source": [
    "import sklearn.datasets\n",
    "import sklearn.model_selection\n",
    "import sklearn.svm\n",
    "\n",
    "import optuna\n",
    "\n",
    "\n",
    "study = optuna.create_study(storage=\"sqlite:///example.db\")\n",
    "study.set_user_attr(\"contributors\", [\"Akiba\", \"Sano\"])\n",
    "study.set_user_attr(\"dataset\", \"MNIST\")"
   ]
  },
  {
   "cell_type": "markdown",
   "metadata": {},
   "source": [
    "We can access annotated attributes with :attr:`~optuna.study.Study.user_attr` property.\n",
    "\n"
   ]
  },
  {
   "cell_type": "code",
   "execution_count": 2,
   "metadata": {
    "collapsed": false,
    "jupyter": {
     "outputs_hidden": false
    }
   },
   "outputs": [
    {
     "data": {
      "text/plain": [
       "{'contributors': ['Akiba', 'Sano'], 'dataset': 'MNIST'}"
      ]
     },
     "execution_count": 2,
     "metadata": {},
     "output_type": "execute_result"
    }
   ],
   "source": [
    "study.user_attrs  # {'contributors': ['Akiba', 'Sano'], 'dataset': 'MNIST'}"
   ]
  },
  {
   "cell_type": "markdown",
   "metadata": {},
   "source": [
    ":class:`~optuna.struct.StudySummary` object, which can be retrieved by\n",
    ":func:`~optuna.study.get_all_study_summaries`, also contains user-defined attributes.\n",
    "\n"
   ]
  },
  {
   "cell_type": "code",
   "execution_count": 3,
   "metadata": {
    "collapsed": false,
    "jupyter": {
     "outputs_hidden": false
    }
   },
   "outputs": [
    {
     "data": {
      "text/plain": [
       "{'contributors': ['Akiba', 'Sano'], 'dataset': 'MNIST'}"
      ]
     },
     "execution_count": 3,
     "metadata": {},
     "output_type": "execute_result"
    }
   ],
   "source": [
    "study_summaries = optuna.get_all_study_summaries(\"sqlite:///example.db\")\n",
    "study_summaries[0].user_attrs  # {\"contributors\": [\"Akiba\", \"Sano\"], \"dataset\": \"MNIST\"}"
   ]
  },
  {
   "cell_type": "markdown",
   "metadata": {},
   "source": [
    ".. seealso::\n",
    "    ``optuna study set-user-attr`` command, which sets an attribute via command line interface.\n",
    "\n"
   ]
  },
  {
   "cell_type": "markdown",
   "metadata": {},
   "source": [
    "## Adding User Attributes to Trials\n",
    "\n",
    "As with :class:`~optuna.study.Study`, a :class:`~optuna.trial.Trial` object provides\n",
    ":func:`~optuna.trial.Trial.set_user_attr` method.\n",
    "Attributes are set inside an objective function.\n",
    "\n"
   ]
  },
  {
   "cell_type": "code",
   "execution_count": 4,
   "metadata": {
    "collapsed": false,
    "jupyter": {
     "outputs_hidden": false
    }
   },
   "outputs": [
    {
     "name": "stderr",
     "output_type": "stream",
     "text": [
      "\u001b[32m[I 2021-11-30 09:00:55,011]\u001b[0m Trial 0 finished with value: 0.046666666666666634 and parameters: {'svc_c': 1726.3315604922188}. Best is trial 0 with value: 0.046666666666666634.\u001b[0m\n"
     ]
    }
   ],
   "source": [
    "def objective(trial):\n",
    "    iris = sklearn.datasets.load_iris()\n",
    "    x, y = iris.data, iris.target\n",
    "\n",
    "    svc_c = trial.suggest_float(\"svc_c\", 1e-10, 1e10, log=True)\n",
    "    clf = sklearn.svm.SVC(C=svc_c)\n",
    "    accuracy = sklearn.model_selection.cross_val_score(clf, x, y).mean()\n",
    "\n",
    "    trial.set_user_attr(\"accuracy\", accuracy)\n",
    "\n",
    "    return 1.0 - accuracy  # return error for minimization\n",
    "\n",
    "\n",
    "study.optimize(objective, n_trials=1)"
   ]
  },
  {
   "cell_type": "markdown",
   "metadata": {},
   "source": [
    "We can access annotated attributes as:\n",
    "\n"
   ]
  },
  {
   "cell_type": "code",
   "execution_count": 5,
   "metadata": {
    "collapsed": false,
    "jupyter": {
     "outputs_hidden": false
    }
   },
   "outputs": [
    {
     "data": {
      "text/plain": [
       "{'accuracy': 0.9533333333333334}"
      ]
     },
     "execution_count": 5,
     "metadata": {},
     "output_type": "execute_result"
    }
   ],
   "source": [
    "study.trials[0].user_attrs"
   ]
  },
  {
   "cell_type": "markdown",
   "metadata": {},
   "source": [
    "Note that, in this example, the attribute is not annotated to a :class:`~optuna.study.Study`\n",
    "but a single :class:`~optuna.trial.Trial`.\n",
    "\n"
   ]
  }
 ],
 "metadata": {
  "kernelspec": {
   "display_name": "Python 3 (ipykernel)",
   "language": "python",
   "name": "python3"
  },
  "language_info": {
   "codemirror_mode": {
    "name": "ipython",
    "version": 3
   },
   "file_extension": ".py",
   "mimetype": "text/x-python",
   "name": "python",
   "nbconvert_exporter": "python",
   "pygments_lexer": "ipython3",
   "version": "3.7.11"
  }
 },
 "nbformat": 4,
 "nbformat_minor": 4
}
